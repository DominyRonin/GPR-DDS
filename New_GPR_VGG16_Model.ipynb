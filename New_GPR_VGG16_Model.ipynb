{
  "nbformat": 4,
  "nbformat_minor": 0,
  "metadata": {
    "colab": {
      "name": "New GPR VGG16 Model.ipynb",
      "provenance": [],
      "collapsed_sections": [],
      "authorship_tag": "ABX9TyOoUtRnEjWRsyv5RcXJfy7w",
      "include_colab_link": true
    },
    "kernelspec": {
      "name": "python3",
      "display_name": "Python 3"
    },
    "accelerator": "GPU"
  },
  "cells": [
    {
      "cell_type": "markdown",
      "metadata": {
        "id": "view-in-github",
        "colab_type": "text"
      },
      "source": [
        "<a href=\"https://colab.research.google.com/github/DominyRonin/GPR-DDS/blob/main/New_GPR_VGG16_Model.ipynb\" target=\"_parent\"><img src=\"https://colab.research.google.com/assets/colab-badge.svg\" alt=\"Open In Colab\"/></a>"
      ]
    },
    {
      "cell_type": "code",
      "metadata": {
        "id": "aFf5vSQ7txAD",
        "outputId": "42791437-e1b7-474d-f62e-e3d179dc2448",
        "colab": {
          "base_uri": "https://localhost:8080/"
        }
      },
      "source": [
        "from google.colab import drive\n",
        "from google.colab import files\n",
        "drive.mount('/content/drive')\n"
      ],
      "execution_count": null,
      "outputs": [
        {
          "output_type": "stream",
          "text": [
            "Drive already mounted at /content/drive; to attempt to forcibly remount, call drive.mount(\"/content/drive\", force_remount=True).\n"
          ],
          "name": "stdout"
        }
      ]
    },
    {
      "cell_type": "code",
      "metadata": {
        "id": "F2d4DKNHtRy_",
        "outputId": "bcf712de-95bc-474c-9437-47cbac5132d8",
        "colab": {
          "base_uri": "https://localhost:8080/"
        }
      },
      "source": [
        "import keras,os\n",
        "from keras.models import Sequential\n",
        "from keras.layers import Dense, Conv2D, MaxPool2D , Flatten\n",
        "from keras.preprocessing.image import ImageDataGenerator\n",
        "import numpy as np\n",
        "import tensorflow as tf\n",
        "from pathlib import Path\n",
        "from keras import  backend as k\n",
        "from keras.models import Sequential\n",
        "from keras.layers import Activation\n",
        "from keras.models import Model\n",
        "from keras.layers import Dense,Flatten\n",
        "from keras.applications import vgg16\n",
        "from keras import backend as K\n",
        "from keras.layers.core import Dense , Flatten\n",
        "from keras.optimizers import Adam\n",
        "from keras.metrics import categorical_crossentropy\n",
        "from keras.layers.convolutional import *\n",
        "from matplotlib import pyplot as plt\n",
        "from sklearn.metrics import confusion_matrix\n",
        "import itertools\n",
        "import pandas as pd\n",
        "from sklearn.utils.multiclass import unique_labels\n",
        "import matplotlib.image as mpimg\n",
        "from tensorflow.keras.optimizers import Adam, RMSprop\n",
        "%matplotlib inline\n",
        " \n",
        "print(\"Pacakages added \")"
      ],
      "execution_count": null,
      "outputs": [
        {
          "output_type": "stream",
          "text": [
            "Pacakages added \n"
          ],
          "name": "stdout"
        }
      ]
    },
    {
      "cell_type": "code",
      "metadata": {
        "id": "a_sVJiL3t7Yb",
        "outputId": "7c578858-e3c0-415e-d5eb-1ae09fa8d0a0",
        "colab": {
          "base_uri": "https://localhost:8080/"
        }
      },
      "source": [
        "train_path = Path('/content/drive/My Drive/New Data/train')\n",
        "test_path =  Path('/content/drive/My Drive/New Data/test')\n",
        "valid_path = Path('/content/drive/My Drive/New Data/validation')\n",
        "print(train_path)\n",
        "print(valid_path)\n",
        "print(test_path)"
      ],
      "execution_count": null,
      "outputs": [
        {
          "output_type": "stream",
          "text": [
            "/content/drive/My Drive/New Data/train\n",
            "/content/drive/My Drive/New Data/validation\n",
            "/content/drive/My Drive/New Data/test\n"
          ],
          "name": "stdout"
        }
      ]
    },
    {
      "cell_type": "code",
      "metadata": {
        "id": "iXjon1vEtikl",
        "outputId": "ab9c8dbb-9bd6-4aa8-9952-880a51e6a5e3",
        "colab": {
          "base_uri": "https://localhost:8080/"
        }
      },
      "source": [
        "batch_size = 128\n",
        " \n",
        "train_batches = ImageDataGenerator().flow_from_directory(train_path,target_size=(50,50), classes=['neg','pos'], batch_size=batch_size)\n",
        " \n",
        " \n",
        "test_batches =  ImageDataGenerator().flow_from_directory(test_path,target_size=(50,50), classes=['neg','pos'], batch_size=batch_size)\n",
        " \n",
        " \n",
        "valid_batches = ImageDataGenerator().flow_from_directory(valid_path,target_size=(50,50), classes=['neg','pos'], batch_size=batch_size)"
      ],
      "execution_count": null,
      "outputs": [
        {
          "output_type": "stream",
          "text": [
            "Found 16672 images belonging to 2 classes.\n",
            "Found 384 images belonging to 2 classes.\n",
            "Found 200 images belonging to 2 classes.\n"
          ],
          "name": "stdout"
        }
      ]
    },
    {
      "cell_type": "code",
      "metadata": {
        "id": "0beOEtQSuKKr"
      },
      "source": [
        "model = Sequential()\n",
        "model.add(Conv2D(input_shape=(50,50,3),filters=64,kernel_size=(3,3),padding=\"same\", activation=\"relu\"))\n",
        "model.add(Conv2D(filters=64,kernel_size=(3,3),padding=\"same\", activation=\"relu\"))\n",
        "model.add(MaxPool2D(pool_size=(2,2),strides=(2,2)))\n",
        "model.add(Conv2D(filters=128, kernel_size=(3,3), padding=\"same\", activation=\"relu\"))\n",
        "model.add(Conv2D(filters=128, kernel_size=(3,3), padding=\"same\", activation=\"relu\"))\n",
        "model.add(MaxPool2D(pool_size=(2,2),strides=(2,2)))\n",
        "model.add(Conv2D(filters=256, kernel_size=(3,3), padding=\"same\", activation=\"relu\"))\n",
        "model.add(Conv2D(filters=256, kernel_size=(3,3), padding=\"same\", activation=\"relu\"))\n",
        "model.add(Conv2D(filters=256, kernel_size=(3,3), padding=\"same\", activation=\"relu\"))\n",
        "model.add(MaxPool2D(pool_size=(2,2),strides=(2,2)))\n",
        "model.add(Conv2D(filters=512, kernel_size=(3,3), padding=\"same\", activation=\"relu\"))\n",
        "model.add(Conv2D(filters=512, kernel_size=(3,3), padding=\"same\", activation=\"relu\"))\n",
        "model.add(Conv2D(filters=512, kernel_size=(3,3), padding=\"same\", activation=\"relu\"))\n",
        "model.add(MaxPool2D(pool_size=(2,2),strides=(2,2)))\n",
        "model.add(Conv2D(filters=512, kernel_size=(3,3), padding=\"same\", activation=\"relu\"))\n",
        "model.add(Conv2D(filters=512, kernel_size=(3,3), padding=\"same\", activation=\"relu\"))\n",
        "model.add(Conv2D(filters=512, kernel_size=(3,3), padding=\"same\", activation=\"relu\"))\n",
        "model.add(MaxPool2D(pool_size=(2,2),strides=(2,2)))"
      ],
      "execution_count": null,
      "outputs": []
    },
    {
      "cell_type": "code",
      "metadata": {
        "id": "cbeV0zpnuM1j"
      },
      "source": [
        "model.add(Flatten())\n",
        "model.add(Dense(units=4096,activation=\"relu\"))\n",
        "model.add(Dense(units=4096,activation=\"relu\"))\n",
        "model.add(Dense(units=2, activation=\"softmax\"))"
      ],
      "execution_count": null,
      "outputs": []
    },
    {
      "cell_type": "code",
      "metadata": {
        "id": "6GtUrK3luPqs"
      },
      "source": [
        "from keras.optimizers import Adam\n",
        "opt = Adam(lr=0.001)\n",
        "model.compile(optimizer=opt, loss=keras.losses.categorical_crossentropy, metrics=['accuracy'])"
      ],
      "execution_count": null,
      "outputs": []
    },
    {
      "cell_type": "code",
      "metadata": {
        "id": "vuSo7p5ov2LL"
      },
      "source": [
        ""
      ],
      "execution_count": null,
      "outputs": []
    },
    {
      "cell_type": "code",
      "metadata": {
        "id": "ITPrDUOTuRAv",
        "outputId": "82368970-70f9-4209-dbaa-1862800a99d1",
        "colab": {
          "base_uri": "https://localhost:8080/"
        }
      },
      "source": [
        "model.summary()\n"
      ],
      "execution_count": null,
      "outputs": [
        {
          "output_type": "stream",
          "text": [
            "Model: \"sequential_2\"\n",
            "_________________________________________________________________\n",
            "Layer (type)                 Output Shape              Param #   \n",
            "=================================================================\n",
            "conv2d_26 (Conv2D)           (None, 50, 50, 64)        1792      \n",
            "_________________________________________________________________\n",
            "conv2d_27 (Conv2D)           (None, 50, 50, 64)        36928     \n",
            "_________________________________________________________________\n",
            "max_pooling2d_10 (MaxPooling (None, 25, 25, 64)        0         \n",
            "_________________________________________________________________\n",
            "conv2d_28 (Conv2D)           (None, 25, 25, 128)       73856     \n",
            "_________________________________________________________________\n",
            "conv2d_29 (Conv2D)           (None, 25, 25, 128)       147584    \n",
            "_________________________________________________________________\n",
            "max_pooling2d_11 (MaxPooling (None, 12, 12, 128)       0         \n",
            "_________________________________________________________________\n",
            "conv2d_30 (Conv2D)           (None, 12, 12, 256)       295168    \n",
            "_________________________________________________________________\n",
            "conv2d_31 (Conv2D)           (None, 12, 12, 256)       590080    \n",
            "_________________________________________________________________\n",
            "conv2d_32 (Conv2D)           (None, 12, 12, 256)       590080    \n",
            "_________________________________________________________________\n",
            "max_pooling2d_12 (MaxPooling (None, 6, 6, 256)         0         \n",
            "_________________________________________________________________\n",
            "conv2d_33 (Conv2D)           (None, 6, 6, 512)         1180160   \n",
            "_________________________________________________________________\n",
            "conv2d_34 (Conv2D)           (None, 6, 6, 512)         2359808   \n",
            "_________________________________________________________________\n",
            "conv2d_35 (Conv2D)           (None, 6, 6, 512)         2359808   \n",
            "_________________________________________________________________\n",
            "max_pooling2d_13 (MaxPooling (None, 3, 3, 512)         0         \n",
            "_________________________________________________________________\n",
            "conv2d_36 (Conv2D)           (None, 3, 3, 512)         2359808   \n",
            "_________________________________________________________________\n",
            "conv2d_37 (Conv2D)           (None, 3, 3, 512)         2359808   \n",
            "_________________________________________________________________\n",
            "conv2d_38 (Conv2D)           (None, 3, 3, 512)         2359808   \n",
            "_________________________________________________________________\n",
            "max_pooling2d_14 (MaxPooling (None, 1, 1, 512)         0         \n",
            "_________________________________________________________________\n",
            "flatten_2 (Flatten)          (None, 512)               0         \n",
            "_________________________________________________________________\n",
            "dense_6 (Dense)              (None, 4096)              2101248   \n",
            "_________________________________________________________________\n",
            "dense_7 (Dense)              (None, 4096)              16781312  \n",
            "_________________________________________________________________\n",
            "dense_8 (Dense)              (None, 2)                 8194      \n",
            "=================================================================\n",
            "Total params: 33,605,442\n",
            "Trainable params: 33,605,442\n",
            "Non-trainable params: 0\n",
            "_________________________________________________________________\n"
          ],
          "name": "stdout"
        }
      ]
    },
    {
      "cell_type": "code",
      "metadata": {
        "id": "25iAY7-RuTyn",
        "outputId": "ad586492-8cbe-45b5-a085-9683a58dfca8",
        "colab": {
          "base_uri": "https://localhost:8080/"
        }
      },
      "source": [
        "from keras.callbacks import ModelCheckpoint, EarlyStopping\n",
        "metric = 'val_accuracy'\n",
        "metric = 'loss'\n",
        "metric = 'val_loss'\n",
        "metric = 'accuracy'\n",
        "\n",
        "checkpoint = ModelCheckpoint(\"vgg16_1.h5\", monitor='accuracy', verbose=1, save_best_only=True, save_weights_only=False, mode='auto', period=1)\n",
        "early = EarlyStopping(monitor='accuracy', min_delta=0, patience=20, verbose=1, mode='auto')\n",
        "hist = model.fit_generator(steps_per_epoch=10,generator=train_batches, validation_data= test_batches, validation_steps=10,epochs=10,callbacks=[checkpoint,early])"
      ],
      "execution_count": null,
      "outputs": [
        {
          "output_type": "stream",
          "text": [
            "WARNING:tensorflow:`period` argument is deprecated. Please use `save_freq` to specify the frequency in number of batches seen.\n",
            "Epoch 1/10\n",
            " 2/10 [=====>........................] - ETA: 0s - loss: 0.4362 - accuracy: 0.7891WARNING:tensorflow:Callbacks method `on_train_batch_end` is slow compared to the batch time (batch time: 0.0495s vs `on_train_batch_end` time: 0.0776s). Check your callbacks.\n",
            "10/10 [==============================] - ETA: 0s - loss: 0.4828 - accuracy: 0.7609WARNING:tensorflow:Your input ran out of data; interrupting training. Make sure that your dataset or generator can generate at least `steps_per_epoch * epochs` batches (in this case, 10 batches). You may need to use the repeat() function when building your dataset.\n",
            "\n",
            "Epoch 00001: accuracy improved from -inf to 0.76094, saving model to vgg16_1.h5\n",
            "10/10 [==============================] - 3s 318ms/step - loss: 0.4828 - accuracy: 0.7609 - val_loss: 1.3495 - val_accuracy: 0.6484\n",
            "Epoch 2/10\n",
            "10/10 [==============================] - ETA: 0s - loss: 0.4759 - accuracy: 0.7719\n",
            "Epoch 00002: accuracy improved from 0.76094 to 0.77188, saving model to vgg16_1.h5\n",
            "10/10 [==============================] - 3s 259ms/step - loss: 0.4759 - accuracy: 0.7719\n",
            "Epoch 3/10\n",
            "10/10 [==============================] - ETA: 0s - loss: 0.4974 - accuracy: 0.7445\n",
            "Epoch 00003: accuracy did not improve from 0.77188\n",
            "10/10 [==============================] - 1s 146ms/step - loss: 0.4974 - accuracy: 0.7445\n",
            "Epoch 4/10\n",
            "10/10 [==============================] - ETA: 0s - loss: 0.5055 - accuracy: 0.7391\n",
            "Epoch 00004: accuracy did not improve from 0.77188\n",
            "10/10 [==============================] - 1s 135ms/step - loss: 0.5055 - accuracy: 0.7391\n",
            "Epoch 5/10\n",
            "10/10 [==============================] - ETA: 0s - loss: 0.4623 - accuracy: 0.7648\n",
            "Epoch 00005: accuracy did not improve from 0.77188\n",
            "10/10 [==============================] - 1s 130ms/step - loss: 0.4623 - accuracy: 0.7648\n",
            "Epoch 6/10\n",
            "10/10 [==============================] - ETA: 0s - loss: 0.4549 - accuracy: 0.7766\n",
            "Epoch 00006: accuracy improved from 0.77188 to 0.77656, saving model to vgg16_1.h5\n",
            "10/10 [==============================] - 3s 267ms/step - loss: 0.4549 - accuracy: 0.7766\n",
            "Epoch 7/10\n",
            "10/10 [==============================] - ETA: 0s - loss: 0.4948 - accuracy: 0.7602\n",
            "Epoch 00007: accuracy did not improve from 0.77656\n",
            "10/10 [==============================] - 2s 153ms/step - loss: 0.4948 - accuracy: 0.7602\n",
            "Epoch 8/10\n",
            "10/10 [==============================] - ETA: 0s - loss: 0.4921 - accuracy: 0.7625\n",
            "Epoch 00008: accuracy did not improve from 0.77656\n",
            "10/10 [==============================] - 1s 142ms/step - loss: 0.4921 - accuracy: 0.7625\n",
            "Epoch 9/10\n",
            "10/10 [==============================] - ETA: 0s - loss: 0.4798 - accuracy: 0.7633\n",
            "Epoch 00009: accuracy did not improve from 0.77656\n",
            "10/10 [==============================] - 1s 143ms/step - loss: 0.4798 - accuracy: 0.7633\n",
            "Epoch 10/10\n",
            "10/10 [==============================] - ETA: 0s - loss: 0.4611 - accuracy: 0.7680\n",
            "Epoch 00010: accuracy did not improve from 0.77656\n",
            "10/10 [==============================] - 1s 146ms/step - loss: 0.4611 - accuracy: 0.7680\n"
          ],
          "name": "stdout"
        }
      ]
    },
    {
      "cell_type": "code",
      "metadata": {
        "id": "bNkK1nrGuWWP",
        "outputId": "cde6188d-3246-41b1-ca27-b64ab40e1c48",
        "colab": {
          "base_uri": "https://localhost:8080/",
          "height": 295
        }
      },
      "source": [
        "import matplotlib.pyplot as plt\n",
        "plt.plot(hist.history[\"accuracy\"])\n",
        "plt.plot(hist.history['val_accuracy'])\n",
        "plt.plot(hist.history['loss'])\n",
        "plt.plot(hist.history['val_loss'])\n",
        "plt.title(\"model accuracy\")\n",
        "plt.ylabel(\"Accuracy\")\n",
        "plt.xlabel(\"Epoch\")\n",
        "plt.legend([\"Accuracy\",\"Validation Accuracy\",\"loss\",\"Validation Loss\"])\n",
        "plt.show()"
      ],
      "execution_count": null,
      "outputs": [
        {
          "output_type": "display_data",
          "data": {
            "image/png": "[encoded data removed]",
            "text/plain": [
              "<Figure size 432x288 with 1 Axes>"
            ]
          },
          "metadata": {
            "tags": [],
            "needs_background": "light"
          }
        }
      ]
    }
  ]
}