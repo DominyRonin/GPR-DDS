{
  "nbformat": 4,
  "nbformat_minor": 0,
  "metadata": {
    "accelerator": "GPU",
    "colab": {
      "name": "size 48 (pos,neg) GPR VGG16  model.ipynb",
      "provenance": [],
      "collapsed_sections": []
    },
    "kernelspec": {
      "display_name": "Python 3",
      "language": "python",
      "name": "python3"
    },
    "language_info": {
      "codemirror_mode": {
        "name": "ipython",
        "version": 3
      },
      "file_extension": ".py",
      "mimetype": "text/x-python",
      "name": "python",
      "nbconvert_exporter": "python",
      "pygments_lexer": "ipython3",
      "version": "3.7.6"
    }
  },
  "cells": [
    {
      "cell_type": "markdown",
      "metadata": {
        "id": "lwRfCOSI_3gH"
      },
      "source": [
        "# Mout Google **Drive** \n",
        "\n",
        "\n",
        "> To load Dataset  \n",
        "\n",
        "\n",
        "*   For training\n",
        "*   For validation\n",
        "*   For testing \n"
      ]
    },
    {
      "cell_type": "code",
      "metadata": {
        "id": "7RaSp-slAFS3",
        "colab": {
          "base_uri": "https://localhost:8080/"
        },
        "outputId": "556f955f-efb4-498f-962f-4278145b557e"
      },
      "source": [
        "from google.colab import drive\n",
        "drive.mount('/content/drive')"
      ],
      "execution_count": 1,
      "outputs": [
        {
          "output_type": "stream",
          "text": [
            "Drive already mounted at /content/drive; to attempt to forcibly remount, call drive.mount(\"/content/drive\", force_remount=True).\n"
          ],
          "name": "stdout"
        }
      ]
    },
    {
      "cell_type": "code",
      "metadata": {
        "id": "AuuyOPI6xEJg"
      },
      "source": [
        "# install the Dependencies\n",
        "#!pip install kaggle\n",
        "#!pip uninstall tensorflow\n",
        "#!pip install tensorflow"
      ],
      "execution_count": 2,
      "outputs": []
    },
    {
      "cell_type": "code",
      "metadata": {
        "id": "E4rhaNSM3lzZ",
        "colab": {
          "base_uri": "https://localhost:8080/"
        },
        "outputId": "b6c746d4-2008-4dce-be7e-76704e11b01e"
      },
      "source": [
        "from google.colab import files\n",
        "import os\n",
        "\n",
        "print(\"project's folder : \")\n",
        "os.chdir('/content/drive/My Drive/New_Data')\n",
        "!pwd\n"
      ],
      "execution_count": 3,
      "outputs": [
        {
          "output_type": "stream",
          "text": [
            "project's folder : \n",
            "/content/drive/My Drive/New_Data\n"
          ],
          "name": "stdout"
        }
      ]
    },
    {
      "cell_type": "markdown",
      "metadata": {
        "id": "BNupsFxtnQEz"
      },
      "source": [
        "# ***Install  prequest packages***"
      ]
    },
    {
      "cell_type": "code",
      "metadata": {
        "id": "muArcDsExEJs",
        "colab": {
          "base_uri": "https://localhost:8080/"
        },
        "outputId": "4aed1fbb-1e03-47bd-90cf-ce19d25d2f13"
      },
      "source": [
        "import keras,os\n",
        "from keras.models import Sequential\n",
        "from keras.layers import Dense, Conv2D, MaxPool2D , Flatten, Dropout\n",
        "from keras.preprocessing.image import ImageDataGenerator\n",
        "import numpy as np\n",
        "import tensorflow as tf\n",
        "from tensorflow.compat.v1 import GPUOptions\n",
        "from tensorflow.compat.v1 import InteractiveSession\n",
        "from pathlib import Path\n",
        "from keras import  backend as k\n",
        "from keras.layers import Activation\n",
        "from keras.models import Model\n",
        "from keras.applications import vgg16\n",
        "from keras.optimizers import Adam, Adamax\n",
        "from keras.metrics import categorical_crossentropy, binary_crossentropy\n",
        "from keras.callbacks import ModelCheckpoint\n",
        "from matplotlib import pyplot as plt\n",
        "from sklearn.metrics import confusion_matrix\n",
        "import itertools\n",
        "from tensorflow.keras.applications.vgg16 import VGG16\n",
        "import tensorflow.keras.backend as K\n",
        "from google.colab.patches import cv2_imshow\n",
        "from skimage import img_as_ubyte\n",
        "tf.compat.v1.enable_eager_execution()\n",
        "\n",
        "%matplotlib inline\n",
        " \n",
        "print(\"Pacakages added \")\n",
        "\n",
        "if tf.executing_eagerly(): \n",
        "  print(\"eager execution enabled\")\n",
        "else:\n",
        "  tf.compat.v1.enable_eager_execution()"
      ],
      "execution_count": 4,
      "outputs": [
        {
          "output_type": "stream",
          "text": [
            "Pacakages added \n",
            "eager execution enabled\n"
          ],
          "name": "stdout"
        }
      ]
    },
    {
      "cell_type": "markdown",
      "metadata": {
        "id": "jLEVcc-lxEJ3"
      },
      "source": [
        "## **Path to Dataset for training , validation and testing**"
      ]
    },
    {
      "cell_type": "code",
      "metadata": {
        "id": "n62CFFJ6xEJ4",
        "colab": {
          "base_uri": "https://localhost:8080/"
        },
        "outputId": "9a04debf-6518-422b-ba0e-f1fcdbf7f3cb"
      },
      "source": [
        "train_path = Path('/content/drive/MyDrive/New_Data/Data3_48/train')\n",
        "test_path =  Path('/content/drive/MyDrive/New_Data/Data3_48/test')\n",
        "valid_path = Path('/content/drive/MyDrive/New_Data/Data3_48/validation')\n",
        "\n",
        "print(train_path)\n",
        "print(valid_path)\n",
        "print(test_path)"
      ],
      "execution_count": 5,
      "outputs": [
        {
          "output_type": "stream",
          "text": [
            "/content/drive/MyDrive/New_Data/Data3_48/train\n",
            "/content/drive/MyDrive/New_Data/Data3_48/validation\n",
            "/content/drive/MyDrive/New_Data/Data3_48/test\n"
          ],
          "name": "stdout"
        }
      ]
    },
    {
      "cell_type": "code",
      "metadata": {
        "id": "3xibnEVRxEKP",
        "colab": {
          "base_uri": "https://localhost:8080/"
        },
        "outputId": "eed7b6c3-e9bc-4bf5-f6d3-47250063f114"
      },
      "source": [
        "batch_size = 32\n",
        " \n",
        "train_batches = ImageDataGenerator().flow_from_directory(train_path,target_size=(48,48),shuffle=False,\n",
        "                                                         classes=['neg','pos'], color_mode=\"rgb\", batch_size=batch_size)\n",
        " \n",
        " \n",
        "test_batches =  ImageDataGenerator().flow_from_directory(test_path,target_size=(48,48),shuffle=False,\n",
        "                                                         classes=['neg','pos'], color_mode=\"rgb\", batch_size=batch_size)\n",
        " \n",
        " \n",
        "valid_batches = ImageDataGenerator().flow_from_directory(valid_path,target_size=(48,48),shuffle=False,\n",
        "                                                         classes=['neg','pos'], color_mode=\"rgb\" ,batch_size=batch_size)"
      ],
      "execution_count": 6,
      "outputs": [
        {
          "output_type": "stream",
          "text": [
            "Found 2892 images belonging to 2 classes.\n",
            "Found 964 images belonging to 2 classes.\n",
            "Found 1446 images belonging to 2 classes.\n"
          ],
          "name": "stdout"
        }
      ]
    },
    {
      "cell_type": "code",
      "metadata": {
        "id": "UV9evm3zxEKZ",
        "colab": {
          "base_uri": "https://localhost:8080/"
        },
        "outputId": "c9f108e4-3ca8-445a-a488-58dd3cfc280f"
      },
      "source": [
        "test_true_class = test_batches.class_indices\n",
        "print(test_true_class)"
      ],
      "execution_count": 7,
      "outputs": [
        {
          "output_type": "stream",
          "text": [
            "{'neg': 0, 'pos': 1}\n"
          ],
          "name": "stdout"
        }
      ]
    },
    {
      "cell_type": "markdown",
      "metadata": {
        "id": "t9qAGfBgx7iK"
      },
      "source": [
        "# Loading vgg16 model"
      ]
    },
    {
      "cell_type": "code",
      "metadata": {
        "id": "47-OwWmixEKj"
      },
      "source": [
        "\n",
        "tf.keras.backend.set_image_data_format('channels_last')\n",
        "\n",
        "gpu_options = tf.compat.v1.GPUOptions(allow_growth=True)\n",
        "session = tf.compat.v1.InteractiveSession(config=tf.compat.v1.ConfigProto(gpu_options=gpu_options))\n",
        "\n",
        "new_model = VGG16(input_shape = (48, 48, 3), # Shape of our images\n",
        "include_top = False, # Leave out the last fully connected layer\n",
        "weights = None)\n",
        "\n",
        "x = new_model.output\n",
        "x=Dense(256, activation='relu')(x)\n",
        "x=Dropout(0.3)(x)\n",
        "x=Dense(512, activation='relu')(x)\n",
        "x=Dropout(0.2)(x)\n",
        "x=Flatten()(x)\n",
        "predictions=Dense(2, activation='softmax')(x)\n",
        "\n",
        "\n",
        "vgg16_model = Model(inputs=new_model.input, outputs=predictions)\n",
        "\n",
        "for layer in new_model.layers:\n",
        "    layer.trainable = True\n",
        "\n",
        " \n",
        "#for l in new_model.layers:\n",
        " #   vgg16_model.add(l)\n",
        "\n",
        "\n",
        "#for layer in vgg16_model.layers:\n",
        " #   layer.trainable = True\n",
        "\n",
        "\n",
        "'''\n",
        "vgg16_model.add(Conv2D(input_shape=(224,224,3),filters=64,kernel_size=(3,3),padding=\"same\", activation=\"relu\"))\n",
        "vgg16_model.add(Conv2D(filters=64,kernel_size=(3,3),padding=\"same\", activation=\"relu\"))\n",
        "\n",
        "\n",
        "vgg16_model.add(MaxPool2D(pool_size=(2,2),padding='same',strides=(2,2)))\n",
        "vgg16_model.add(Conv2D(filters=128, kernel_size=(3,3), padding=\"same\", activation=\"relu\"))\n",
        "vgg16_model.add(Conv2D(filters=128, kernel_size=(3,3), padding=\"same\", activation=\"relu\"))\n",
        "vgg16_model.add(Conv2D(filters=128, kernel_size=(3,3), padding=\"same\", activation=\"relu\"))\n",
        "\n",
        "vgg16_model.add(MaxPool2D(pool_size=(2,2),padding='same',strides=(2,2)))\n",
        "vgg16_model.add(Conv2D(filters=256, kernel_size=(3,3), padding=\"same\", activation=\"relu\"))\n",
        "vgg16_model.add(Conv2D(filters=256, kernel_size=(3,3), padding=\"same\", activation=\"relu\"))\n",
        "vgg16_model.add(Conv2D(filters=256, kernel_size=(3,3), padding=\"same\", activation=\"relu\"))\n",
        "\n",
        "vgg16_model.add(MaxPool2D(pool_size=(2,2),padding='same',strides=(2,2)))\n",
        "vgg16_model.add(Conv2D(filters=512, kernel_size=(3,3), padding=\"same\", activation=\"relu\"))\n",
        "vgg16_model.add(Conv2D(filters=512, kernel_size=(3,3), padding=\"same\", activation=\"relu\"))\n",
        "vgg16_model.add(Conv2D(filters=512, kernel_size=(3,3), padding=\"same\", activation=\"relu\"))\n",
        "\n",
        "vgg16_model.add(MaxPool2D(pool_size=(2,2),padding='same',strides=(2,2)))\n",
        "vgg16_model.add(Conv2D(filters=512, kernel_size=(3,3), padding=\"same\", activation=\"relu\"))\n",
        "vgg16_model.add(Conv2D(filters=512, kernel_size=(3,3), padding=\"same\", activation=\"relu\"))\n",
        "vgg16_model.add(Conv2D(filters=512, kernel_size=(3,3), padding=\"same\", activation=\"relu\"))\n",
        "\n",
        "vgg16_model.add(MaxPool2D(pool_size=(2,2),padding='same',strides=(2,2)))\n",
        "vgg16_model.add(Conv2D(filters=1024, kernel_size=(3,3), padding=\"same\", activation=\"relu\"))\n",
        "vgg16_model.add(Conv2D(filters=1024, kernel_size=(3,3), padding=\"same\", activation=\"relu\"))\n",
        "vgg16_model.add(Conv2D(filters=1024, kernel_size=(3,3), padding=\"same\", activation=\"relu\"))\n",
        "\n",
        "vgg16_model.add(MaxPool2D(pool_size=(2,2),padding='same',strides=(2,2)))\n",
        "vgg16_model.add(Conv2D(filters=2048, kernel_size=(3,3), padding=\"same\", activation=\"relu\"))\n",
        "vgg16_model.add(Conv2D(filters=2048, kernel_size=(3,3), padding=\"same\", activation=\"relu\"))\n",
        "vgg16_model.add(Conv2D(filters=2048, kernel_size=(3,3), padding=\"same\", activation=\"relu\"))\n",
        "\n",
        " '''\n",
        "\n",
        "'''\n",
        "vgg16_model.add(Flatten())\n",
        "vgg16_model.add(Dense(units=1024,activation=\"relu\"))\n",
        "vgg16_model.add(Dropout(0.5))\n",
        "vgg16_model.add(Dense(units=1024,activation=\"relu\"))\n",
        "vgg16_model.add(Dropout(0.2))\n",
        "vgg16_model.add(Dense(units=3, activation=\"softmax\"))\n",
        "'''\n",
        "#softmax\n",
        "#sigmoid\n",
        "tf.compat.v1.InteractiveSession.close(session)\n",
        "\n"
      ],
      "execution_count": 8,
      "outputs": []
    },
    {
      "cell_type": "markdown",
      "metadata": {
        "id": "u3gDS19f7tVV"
      },
      "source": [
        ""
      ]
    },
    {
      "cell_type": "code",
      "metadata": {
        "id": "sID8DoFsxEK1",
        "colab": {
          "base_uri": "https://localhost:8080/"
        },
        "outputId": "32292434-fa89-4240-9b67-7bc41c7340c0"
      },
      "source": [
        "vgg16_model.summary()\n",
        "print(\"\\n \\n \\n \\n \\n summary of our model\")\n",
        "\n",
        "\n",
        "new_model.summary()\n",
        "print(\"\\n \\n \\n \\n \\n summary of our model\")"
      ],
      "execution_count": 9,
      "outputs": [
        {
          "output_type": "stream",
          "text": [
            "Model: \"model\"\n",
            "_________________________________________________________________\n",
            "Layer (type)                 Output Shape              Param #   \n",
            "=================================================================\n",
            "input_1 (InputLayer)         [(None, 48, 48, 3)]       0         \n",
            "_________________________________________________________________\n",
            "block1_conv1 (Conv2D)        (None, 48, 48, 64)        1792      \n",
            "_________________________________________________________________\n",
            "block1_conv2 (Conv2D)        (None, 48, 48, 64)        36928     \n",
            "_________________________________________________________________\n",
            "block1_pool (MaxPooling2D)   (None, 24, 24, 64)        0         \n",
            "_________________________________________________________________\n",
            "block2_conv1 (Conv2D)        (None, 24, 24, 128)       73856     \n",
            "_________________________________________________________________\n",
            "block2_conv2 (Conv2D)        (None, 24, 24, 128)       147584    \n",
            "_________________________________________________________________\n",
            "block2_pool (MaxPooling2D)   (None, 12, 12, 128)       0         \n",
            "_________________________________________________________________\n",
            "block3_conv1 (Conv2D)        (None, 12, 12, 256)       295168    \n",
            "_________________________________________________________________\n",
            "block3_conv2 (Conv2D)        (None, 12, 12, 256)       590080    \n",
            "_________________________________________________________________\n",
            "block3_conv3 (Conv2D)        (None, 12, 12, 256)       590080    \n",
            "_________________________________________________________________\n",
            "block3_pool (MaxPooling2D)   (None, 6, 6, 256)         0         \n",
            "_________________________________________________________________\n",
            "block4_conv1 (Conv2D)        (None, 6, 6, 512)         1180160   \n",
            "_________________________________________________________________\n",
            "block4_conv2 (Conv2D)        (None, 6, 6, 512)         2359808   \n",
            "_________________________________________________________________\n",
            "block4_conv3 (Conv2D)        (None, 6, 6, 512)         2359808   \n",
            "_________________________________________________________________\n",
            "block4_pool (MaxPooling2D)   (None, 3, 3, 512)         0         \n",
            "_________________________________________________________________\n",
            "block5_conv1 (Conv2D)        (None, 3, 3, 512)         2359808   \n",
            "_________________________________________________________________\n",
            "block5_conv2 (Conv2D)        (None, 3, 3, 512)         2359808   \n",
            "_________________________________________________________________\n",
            "block5_conv3 (Conv2D)        (None, 3, 3, 512)         2359808   \n",
            "_________________________________________________________________\n",
            "block5_pool (MaxPooling2D)   (None, 1, 1, 512)         0         \n",
            "_________________________________________________________________\n",
            "dense (Dense)                (None, 1, 1, 256)         131328    \n",
            "_________________________________________________________________\n",
            "dropout (Dropout)            (None, 1, 1, 256)         0         \n",
            "_________________________________________________________________\n",
            "dense_1 (Dense)              (None, 1, 1, 512)         131584    \n",
            "_________________________________________________________________\n",
            "dropout_1 (Dropout)          (None, 1, 1, 512)         0         \n",
            "_________________________________________________________________\n",
            "flatten (Flatten)            (None, 512)               0         \n",
            "_________________________________________________________________\n",
            "dense_2 (Dense)              (None, 2)                 1026      \n",
            "=================================================================\n",
            "Total params: 14,978,626\n",
            "Trainable params: 14,978,626\n",
            "Non-trainable params: 0\n",
            "_________________________________________________________________\n",
            "\n",
            " \n",
            " \n",
            " \n",
            " \n",
            " summary of our model\n",
            "Model: \"vgg16\"\n",
            "_________________________________________________________________\n",
            "Layer (type)                 Output Shape              Param #   \n",
            "=================================================================\n",
            "input_1 (InputLayer)         [(None, 48, 48, 3)]       0         \n",
            "_________________________________________________________________\n",
            "block1_conv1 (Conv2D)        (None, 48, 48, 64)        1792      \n",
            "_________________________________________________________________\n",
            "block1_conv2 (Conv2D)        (None, 48, 48, 64)        36928     \n",
            "_________________________________________________________________\n",
            "block1_pool (MaxPooling2D)   (None, 24, 24, 64)        0         \n",
            "_________________________________________________________________\n",
            "block2_conv1 (Conv2D)        (None, 24, 24, 128)       73856     \n",
            "_________________________________________________________________\n",
            "block2_conv2 (Conv2D)        (None, 24, 24, 128)       147584    \n",
            "_________________________________________________________________\n",
            "block2_pool (MaxPooling2D)   (None, 12, 12, 128)       0         \n",
            "_________________________________________________________________\n",
            "block3_conv1 (Conv2D)        (None, 12, 12, 256)       295168    \n",
            "_________________________________________________________________\n",
            "block3_conv2 (Conv2D)        (None, 12, 12, 256)       590080    \n",
            "_________________________________________________________________\n",
            "block3_conv3 (Conv2D)        (None, 12, 12, 256)       590080    \n",
            "_________________________________________________________________\n",
            "block3_pool (MaxPooling2D)   (None, 6, 6, 256)         0         \n",
            "_________________________________________________________________\n",
            "block4_conv1 (Conv2D)        (None, 6, 6, 512)         1180160   \n",
            "_________________________________________________________________\n",
            "block4_conv2 (Conv2D)        (None, 6, 6, 512)         2359808   \n",
            "_________________________________________________________________\n",
            "block4_conv3 (Conv2D)        (None, 6, 6, 512)         2359808   \n",
            "_________________________________________________________________\n",
            "block4_pool (MaxPooling2D)   (None, 3, 3, 512)         0         \n",
            "_________________________________________________________________\n",
            "block5_conv1 (Conv2D)        (None, 3, 3, 512)         2359808   \n",
            "_________________________________________________________________\n",
            "block5_conv2 (Conv2D)        (None, 3, 3, 512)         2359808   \n",
            "_________________________________________________________________\n",
            "block5_conv3 (Conv2D)        (None, 3, 3, 512)         2359808   \n",
            "_________________________________________________________________\n",
            "block5_pool (MaxPooling2D)   (None, 1, 1, 512)         0         \n",
            "=================================================================\n",
            "Total params: 14,714,688\n",
            "Trainable params: 14,714,688\n",
            "Non-trainable params: 0\n",
            "_________________________________________________________________\n",
            "\n",
            " \n",
            " \n",
            " \n",
            " \n",
            " summary of our model\n"
          ],
          "name": "stdout"
        }
      ]
    },
    {
      "cell_type": "markdown",
      "metadata": {
        "id": "NG_LyCTIyWso"
      },
      "source": [
        "# Compile our model"
      ]
    },
    {
      "cell_type": "code",
      "metadata": {
        "id": "tBHOyZ_DxEMz",
        "colab": {
          "base_uri": "https://localhost:8080/"
        },
        "outputId": "788c7d35-188b-4e49-c7be-3707e7fd038d"
      },
      "source": [
        "vgg16_model.compile(Adamax(lr=.0001),loss='categorical_crossentropy',metrics=[\"accuracy\"])\n",
        "\n",
        "#sparse_categorical_crossentropy\n",
        "#categorical_crossentropy\n",
        "#optimizer=opt,Adam, Adamax\n",
        "\n",
        "print('checked')"
      ],
      "execution_count": 10,
      "outputs": [
        {
          "output_type": "stream",
          "text": [
            "checked\n"
          ],
          "name": "stdout"
        }
      ]
    },
    {
      "cell_type": "code",
      "metadata": {
        "id": "SM2_NLMPxEM5",
        "colab": {
          "base_uri": "https://localhost:8080/"
        },
        "outputId": "5d0cfb8e-0fd9-4677-c0a3-4a2c1f45b1c4"
      },
      "source": [
        "train_num = train_batches.samples\n",
        "valid_num = valid_batches.samples\n",
        "test_num = test_batches.samples\n",
        "\n",
        "print(train_num)\n",
        "print(test_num)\n",
        "print(valid_num)"
      ],
      "execution_count": 11,
      "outputs": [
        {
          "output_type": "stream",
          "text": [
            "2892\n",
            "964\n",
            "1446\n"
          ],
          "name": "stdout"
        }
      ]
    },
    {
      "cell_type": "markdown",
      "metadata": {
        "id": "pFPUvoczykUr"
      },
      "source": [
        "# ***Checkpoint to save the best accuracy ***"
      ]
    },
    {
      "cell_type": "code",
      "metadata": {
        "id": "gga8qEzlxEM_",
        "colab": {
          "base_uri": "https://localhost:8080/"
        },
        "outputId": "156989d4-467f-4967-a104-288db9c6d2c3"
      },
      "source": [
        "from keras.callbacks import ModelCheckpoint\n",
        "\n",
        "filepath = \"/content/drive/My Drive/New_Data/Save_Models/Pos_Neg_Best_vgg16.h5\"\n",
        "checkpoint1 = ModelCheckpoint(filepath, monitor='val_accuracy', verbose=1, save_best_only=True, mode='max')\n",
        "checkpoint2 = ModelCheckpoint(filepath, monitor='accuracy', verbose=1, save_best_only=True, mode='max')\n",
        "\n",
        "callbacks_list = [checkpoint1,checkpoint2]\n",
        "print( \"vgg16 model is stored at\",filepath)"
      ],
      "execution_count": 12,
      "outputs": [
        {
          "output_type": "stream",
          "text": [
            "vgg16 model is stored at /content/drive/My Drive/New_Data/Save_Models/Pos_Neg_Best_vgg16.h5\n"
          ],
          "name": "stdout"
        }
      ]
    },
    {
      "cell_type": "code",
      "metadata": {
        "id": "N4do2ZahjZ21",
        "colab": {
          "base_uri": "https://localhost:8080/"
        },
        "outputId": "52461206-9fef-4aec-acd3-cef72e79b231"
      },
      "source": [
        "\n",
        "hist = vgg16_model.fit(train_batches, steps_per_epoch=train_num//batch_size,\n",
        "                    validation_data = valid_batches, validation_steps=valid_num//batch_size,\n",
        "                   epochs = 15,callbacks=callbacks_list, verbose=1)\n",
        "\n",
        "#steps_per_epoch = train_num//batch_size\n",
        "#validation_steps=valid_num//batch_size"
      ],
      "execution_count": 13,
      "outputs": [
        {
          "output_type": "stream",
          "text": [
            "Epoch 1/15\n",
            "90/90 [==============================] - 11s 78ms/step - loss: 0.7395 - accuracy: 0.4965 - val_loss: 0.6067 - val_accuracy: 0.7437\n",
            "\n",
            "Epoch 00001: val_accuracy improved from -inf to 0.74375, saving model to /content/drive/My Drive/New_Data/Save_Models/Pos_Neg_Best_vgg16.h5\n",
            "\n",
            "Epoch 00001: accuracy improved from -inf to 0.53287, saving model to /content/drive/My Drive/New_Data/Save_Models/Pos_Neg_Best_vgg16.h5\n",
            "Epoch 2/15\n",
            "90/90 [==============================] - 6s 63ms/step - loss: 0.5622 - accuracy: 0.7109 - val_loss: 0.4722 - val_accuracy: 0.8028\n",
            "\n",
            "Epoch 00002: val_accuracy improved from 0.74375 to 0.80278, saving model to /content/drive/My Drive/New_Data/Save_Models/Pos_Neg_Best_vgg16.h5\n",
            "\n",
            "Epoch 00002: accuracy improved from 0.53287 to 0.73438, saving model to /content/drive/My Drive/New_Data/Save_Models/Pos_Neg_Best_vgg16.h5\n",
            "Epoch 3/15\n",
            "90/90 [==============================] - 6s 68ms/step - loss: 0.4369 - accuracy: 0.7879 - val_loss: 0.3069 - val_accuracy: 0.8264\n",
            "\n",
            "Epoch 00003: val_accuracy improved from 0.80278 to 0.82639, saving model to /content/drive/My Drive/New_Data/Save_Models/Pos_Neg_Best_vgg16.h5\n",
            "\n",
            "Epoch 00003: accuracy improved from 0.73438 to 0.81014, saving model to /content/drive/My Drive/New_Data/Save_Models/Pos_Neg_Best_vgg16.h5\n",
            "Epoch 4/15\n",
            "90/90 [==============================] - 6s 65ms/step - loss: 0.3232 - accuracy: 0.8510 - val_loss: 0.3350 - val_accuracy: 0.8042\n",
            "\n",
            "Epoch 00004: val_accuracy did not improve from 0.82639\n",
            "\n",
            "Epoch 00004: accuracy improved from 0.81014 to 0.84720, saving model to /content/drive/My Drive/New_Data/Save_Models/Pos_Neg_Best_vgg16.h5\n",
            "Epoch 5/15\n",
            "90/90 [==============================] - 6s 65ms/step - loss: 0.3059 - accuracy: 0.8406 - val_loss: 0.2435 - val_accuracy: 0.9146\n",
            "\n",
            "Epoch 00005: val_accuracy improved from 0.82639 to 0.91458, saving model to /content/drive/My Drive/New_Data/Save_Models/Pos_Neg_Best_vgg16.h5\n",
            "\n",
            "Epoch 00005: accuracy improved from 0.84720 to 0.86783, saving model to /content/drive/My Drive/New_Data/Save_Models/Pos_Neg_Best_vgg16.h5\n",
            "Epoch 6/15\n",
            "90/90 [==============================] - 6s 68ms/step - loss: 0.2095 - accuracy: 0.9189 - val_loss: 0.2003 - val_accuracy: 0.9069\n",
            "\n",
            "Epoch 00006: val_accuracy did not improve from 0.91458\n",
            "\n",
            "Epoch 00006: accuracy improved from 0.86783 to 0.92168, saving model to /content/drive/My Drive/New_Data/Save_Models/Pos_Neg_Best_vgg16.h5\n",
            "Epoch 7/15\n",
            "90/90 [==============================] - 6s 66ms/step - loss: 0.1813 - accuracy: 0.9277 - val_loss: 0.1166 - val_accuracy: 0.9486\n",
            "\n",
            "Epoch 00007: val_accuracy improved from 0.91458 to 0.94861, saving model to /content/drive/My Drive/New_Data/Save_Models/Pos_Neg_Best_vgg16.h5\n",
            "\n",
            "Epoch 00007: accuracy improved from 0.92168 to 0.93042, saving model to /content/drive/My Drive/New_Data/Save_Models/Pos_Neg_Best_vgg16.h5\n",
            "Epoch 8/15\n",
            "90/90 [==============================] - 6s 65ms/step - loss: 0.1472 - accuracy: 0.9405 - val_loss: 0.0995 - val_accuracy: 0.9611\n",
            "\n",
            "Epoch 00008: val_accuracy improved from 0.94861 to 0.96111, saving model to /content/drive/My Drive/New_Data/Save_Models/Pos_Neg_Best_vgg16.h5\n",
            "\n",
            "Epoch 00008: accuracy improved from 0.93042 to 0.94825, saving model to /content/drive/My Drive/New_Data/Save_Models/Pos_Neg_Best_vgg16.h5\n",
            "Epoch 9/15\n",
            "90/90 [==============================] - 6s 67ms/step - loss: 0.1017 - accuracy: 0.9670 - val_loss: 0.1604 - val_accuracy: 0.9250\n",
            "\n",
            "Epoch 00009: val_accuracy did not improve from 0.96111\n",
            "\n",
            "Epoch 00009: accuracy improved from 0.94825 to 0.95035, saving model to /content/drive/My Drive/New_Data/Save_Models/Pos_Neg_Best_vgg16.h5\n",
            "Epoch 10/15\n",
            "90/90 [==============================] - 6s 69ms/step - loss: 0.1164 - accuracy: 0.9577 - val_loss: 0.0636 - val_accuracy: 0.9757\n",
            "\n",
            "Epoch 00010: val_accuracy improved from 0.96111 to 0.97569, saving model to /content/drive/My Drive/New_Data/Save_Models/Pos_Neg_Best_vgg16.h5\n",
            "\n",
            "Epoch 00010: accuracy improved from 0.95035 to 0.96818, saving model to /content/drive/My Drive/New_Data/Save_Models/Pos_Neg_Best_vgg16.h5\n",
            "Epoch 11/15\n",
            "90/90 [==============================] - 6s 65ms/step - loss: 0.0716 - accuracy: 0.9737 - val_loss: 0.0391 - val_accuracy: 0.9875\n",
            "\n",
            "Epoch 00011: val_accuracy improved from 0.97569 to 0.98750, saving model to /content/drive/My Drive/New_Data/Save_Models/Pos_Neg_Best_vgg16.h5\n",
            "\n",
            "Epoch 00011: accuracy improved from 0.96818 to 0.97902, saving model to /content/drive/My Drive/New_Data/Save_Models/Pos_Neg_Best_vgg16.h5\n",
            "Epoch 12/15\n",
            "90/90 [==============================] - 6s 67ms/step - loss: 0.0462 - accuracy: 0.9898 - val_loss: 0.0317 - val_accuracy: 0.9924\n",
            "\n",
            "Epoch 00012: val_accuracy improved from 0.98750 to 0.99236, saving model to /content/drive/My Drive/New_Data/Save_Models/Pos_Neg_Best_vgg16.h5\n",
            "\n",
            "Epoch 00012: accuracy improved from 0.97902 to 0.98706, saving model to /content/drive/My Drive/New_Data/Save_Models/Pos_Neg_Best_vgg16.h5\n",
            "Epoch 13/15\n",
            "90/90 [==============================] - 6s 67ms/step - loss: 0.0509 - accuracy: 0.9846 - val_loss: 0.0237 - val_accuracy: 0.9937\n",
            "\n",
            "Epoch 00013: val_accuracy improved from 0.99236 to 0.99375, saving model to /content/drive/My Drive/New_Data/Save_Models/Pos_Neg_Best_vgg16.h5\n",
            "\n",
            "Epoch 00013: accuracy did not improve from 0.98706\n",
            "Epoch 14/15\n",
            "90/90 [==============================] - 6s 67ms/step - loss: 0.0350 - accuracy: 0.9901 - val_loss: 0.0205 - val_accuracy: 0.9958\n",
            "\n",
            "Epoch 00014: val_accuracy improved from 0.99375 to 0.99583, saving model to /content/drive/My Drive/New_Data/Save_Models/Pos_Neg_Best_vgg16.h5\n",
            "\n",
            "Epoch 00014: accuracy improved from 0.98706 to 0.98951, saving model to /content/drive/My Drive/New_Data/Save_Models/Pos_Neg_Best_vgg16.h5\n",
            "Epoch 15/15\n",
            "90/90 [==============================] - 6s 68ms/step - loss: 0.0185 - accuracy: 0.9959 - val_loss: 0.0136 - val_accuracy: 0.9965\n",
            "\n",
            "Epoch 00015: val_accuracy improved from 0.99583 to 0.99653, saving model to /content/drive/My Drive/New_Data/Save_Models/Pos_Neg_Best_vgg16.h5\n",
            "\n",
            "Epoch 00015: accuracy improved from 0.98951 to 0.99510, saving model to /content/drive/My Drive/New_Data/Save_Models/Pos_Neg_Best_vgg16.h5\n"
          ],
          "name": "stdout"
        }
      ]
    },
    {
      "cell_type": "markdown",
      "metadata": {
        "id": "9xyJmjE9OZEy"
      },
      "source": [
        "# Evaluate Test Data"
      ]
    },
    {
      "cell_type": "code",
      "metadata": {
        "colab": {
          "base_uri": "https://localhost:8080/"
        },
        "id": "Xybl8idiNLk7",
        "outputId": "69096d7d-10e3-4f88-d8dc-ee80ed97e075"
      },
      "source": [
        "test_result = vgg16_model.evaluate(test_batches,verbose=1,batch_size=batch_size)\n",
        "print(\"test loss, test acc:\", test_result)\n"
      ],
      "execution_count": 14,
      "outputs": [
        {
          "output_type": "stream",
          "text": [
            "31/31 [==============================] - 2s 54ms/step - loss: 0.0516 - accuracy: 0.9886\n",
            "test loss, test acc: [0.051571574062108994, 0.9885892271995544]\n"
          ],
          "name": "stdout"
        }
      ]
    },
    {
      "cell_type": "code",
      "metadata": {
        "id": "4P4YTss6WEd7",
        "colab": {
          "base_uri": "https://localhost:8080/",
          "height": 69
        },
        "outputId": "b9bbdf9b-0f5c-4604-8506-7e6db76681b3"
      },
      "source": [
        "'''\n",
        "test_datagen = ImageDataGenerator(rescale=1./255)\n",
        "\n",
        "test_generator = test_datagen.flow_from_directory(\n",
        "test_path,\n",
        "target_size=(48, 48),\n",
        "batch_size=batch_size,\n",
        "class_mode='categorical', shuffle = False,color_mode = 'rgb')\n",
        "\n",
        "test_loss, test_acc = vgg16_model.evaluate(test_generator, steps = 31)\n",
        "print('test acc:', test_acc)\n",
        "'''"
      ],
      "execution_count": 15,
      "outputs": [
        {
          "output_type": "execute_result",
          "data": {
            "application/vnd.google.colaboratory.intrinsic+json": {
              "type": "string"
            },
            "text/plain": [
              "\"\\ntest_datagen = ImageDataGenerator(rescale=1./255)\\n\\ntest_generator = test_datagen.flow_from_directory(\\ntest_path,\\ntarget_size=(48, 48),\\nbatch_size=batch_size,\\nclass_mode='categorical', shuffle = False,color_mode = 'rgb')\\n\\ntest_loss, test_acc = vgg16_model.evaluate(test_generator, steps = 31)\\nprint('test acc:', test_acc)\\n\""
            ]
          },
          "metadata": {
            "tags": []
          },
          "execution_count": 15
        }
      ]
    },
    {
      "cell_type": "code",
      "metadata": {
        "colab": {
          "base_uri": "https://localhost:8080/",
          "height": 555
        },
        "id": "1sYQL2vkWu1A",
        "outputId": "baaeef3e-01b4-4b75-e332-c30f659b7da7"
      },
      "source": [
        "from sklearn.metrics import confusion_matrix,classification_report\n",
        "\n",
        "def plot_confusion_matrix(cm, classes,\n",
        "                          normalize=False,\n",
        "                          title='Confusion matrix',\n",
        "                          cmap=plt.cm.Blues_r):\n",
        "    \"\"\"\n",
        "    This function prints and plots the confusion matrix.\n",
        "    Normalization can be applied by setting `normalize=True`.\n",
        "    \"\"\"\n",
        "    if normalize:\n",
        "        cm = cm.astype('float') / cm.sum(axis=1)[:, np.newaxis]\n",
        "        print(\"Normalized confusion matrix\")\n",
        "    else:\n",
        "        print('Confusion matrix, without normalization')\n",
        "\n",
        "    print(cm)\n",
        "\n",
        "    plt.imshow(cm, interpolation='nearest', cmap=cmap)\n",
        "    plt.title(title)\n",
        "    plt.colorbar()\n",
        "    tick_marks = np.arange(len(classes))\n",
        "    plt.xticks(tick_marks, classes, rotation=45)\n",
        "    plt.yticks(tick_marks, classes)\n",
        "\n",
        "    fmt = '.2f' if normalize else 'd'\n",
        "    thresh = cm.max() / 2.\n",
        "    for i, j in itertools.product(range(cm.shape[0]), range(cm.shape[1])):\n",
        "        plt.text(j, i, format(cm[i, j], fmt),\n",
        "                 horizontalalignment=\"center\",\n",
        "                 color=\"black\" if cm[i, j] > thresh else \"white\")\n",
        "\n",
        "    plt.ylabel('True label')\n",
        "    plt.xlabel('Predicted label')\n",
        "    plt.tight_layout()\n",
        "\n",
        "\n",
        "predictions = vgg16_model.predict(test_batches,  test_num // batch_size+1)\n",
        "\n",
        "y_pred = np.argmax(predictions, axis=1)\n",
        "\n",
        "true_classes = test_batches.classes\n",
        "\n",
        "class_labels = list(test_batches.class_indices.keys())   \n",
        "\n",
        "print(class_labels)\n",
        "\n",
        "confusion_matrix = confusion_matrix(test_batches.classes, y_pred )\n",
        "np.set_printoptions(precision=2)\n",
        "plt.figure()\n",
        "plot_confusion_matrix(confusion_matrix, classes=class_labels,\n",
        "                      title='Confusion matrix, without normalization')\n",
        "plt.show()\n",
        "\n",
        "report = classification_report(true_classes, y_pred, target_names=class_labels)\n",
        "print(report)\n",
        "\n",
        "labels_new = test_batches.class_indices\n",
        "labels_new = dict((v,k) for k,v in labels_new.items())\n",
        "predictions_new = [labels_new[k] for k in y_pred]\n",
        "\n",
        "print(predictions_new)"
      ],
      "execution_count": 16,
      "outputs": [
        {
          "output_type": "stream",
          "text": [
            "['neg', 'pos']\n",
            "Confusion matrix, without normalization\n",
            "[[476   6]\n",
            " [  5 477]]\n"
          ],
          "name": "stdout"
        },
        {
          "output_type": "display_data",
          "data": {
            "image/png": "[encoded data removed]",
            "text/plain": [
              "<Figure size 432x288 with 2 Axes>"
            ]
          },
          "metadata": {
            "tags": [],
            "needs_background": "light"
          }
        },
        {
          "output_type": "stream",
          "text": [
            "              precision    recall  f1-score   support\n",
            "\n",
            "         neg       0.99      0.99      0.99       482\n",
            "         pos       0.99      0.99      0.99       482\n",
            "\n",
            "    accuracy                           0.99       964\n",
            "   macro avg       0.99      0.99      0.99       964\n",
            "weighted avg       0.99      0.99      0.99       964\n",
            "\n",
            "['neg', 'neg', 'neg', 'neg', 'neg', 'neg', 'neg', 'neg', 'neg', 'pos', 'neg', 'neg', 'neg', 'neg', 'neg', 'neg', 'neg', 'neg', 'neg', 'neg', 'neg', 'neg', 'neg', 'neg', 'neg', 'neg', 'neg', 'neg', 'neg', 'neg', 'neg', 'neg', 'neg', 'neg', 'neg', 'neg', 'neg', 'neg', 'neg', 'neg', 'neg', 'neg', 'neg', 'neg', 'neg', 'neg', 'neg', 'neg', 'neg', 'neg', 'neg', 'neg', 'neg', 'neg', 'neg', 'neg', 'neg', 'neg', 'neg', 'neg', 'neg', 'neg', 'neg', 'neg', 'neg', 'neg', 'neg', 'neg', 'neg', 'neg', 'neg', 'neg', 'neg', 'neg', 'neg', 'neg', 'neg', 'neg', 'neg', 'neg', 'neg', 'neg', 'neg', 'neg', 'neg', 'neg', 'neg', 'neg', 'neg', 'neg', 'neg', 'neg', 'neg', 'neg', 'neg', 'neg', 'neg', 'neg', 'neg', 'neg', 'neg', 'neg', 'neg', 'neg', 'neg', 'neg', 'neg', 'neg', 'neg', 'neg', 'neg', 'neg', 'neg', 'neg', 'neg', 'neg', 'neg', 'neg', 'neg', 'neg', 'neg', 'neg', 'neg', 'neg', 'neg', 'neg', 'neg', 'neg', 'neg', 'neg', 'neg', 'neg', 'neg', 'neg', 'neg', 'neg', 'neg', 'neg', 'neg', 'neg', 'neg', 'neg', 'neg', 'neg', 'neg', 'neg', 'neg', 'neg', 'neg', 'neg', 'neg', 'neg', 'neg', 'neg', 'neg', 'neg', 'neg', 'neg', 'neg', 'neg', 'neg', 'neg', 'neg', 'neg', 'neg', 'neg', 'neg', 'neg', 'neg', 'neg', 'neg', 'neg', 'neg', 'neg', 'neg', 'neg', 'neg', 'neg', 'neg', 'neg', 'neg', 'neg', 'neg', 'neg', 'neg', 'neg', 'neg', 'neg', 'neg', 'neg', 'neg', 'neg', 'neg', 'neg', 'neg', 'pos', 'neg', 'neg', 'neg', 'neg', 'neg', 'pos', 'neg', 'neg', 'neg', 'neg', 'neg', 'neg', 'neg', 'neg', 'neg', 'neg', 'neg', 'neg', 'neg', 'neg', 'neg', 'neg', 'neg', 'neg', 'neg', 'neg', 'neg', 'neg', 'neg', 'neg', 'neg', 'neg', 'neg', 'neg', 'neg', 'neg', 'neg', 'neg', 'neg', 'neg', 'neg', 'neg', 'neg', 'neg', 'neg', 'neg', 'neg', 'neg', 'neg', 'neg', 'neg', 'neg', 'neg', 'neg', 'neg', 'neg', 'neg', 'neg', 'neg', 'neg', 'neg', 'neg', 'neg', 'neg', 'neg', 'neg', 'neg', 'neg', 'neg', 'neg', 'neg', 'neg', 'neg', 'neg', 'neg', 'neg', 'neg', 'neg', 'neg', 'neg', 'neg', 'neg', 'neg', 'neg', 'neg', 'neg', 'neg', 'neg', 'neg', 'neg', 'neg', 'neg', 'neg', 'neg', 'neg', 'neg', 'neg', 'neg', 'neg', 'neg', 'neg', 'neg', 'neg', 'neg', 'neg', 'neg', 'neg', 'neg', 'neg', 'neg', 'neg', 'neg', 'neg', 'neg', 'neg', 'neg', 'neg', 'neg', 'neg', 'neg', 'neg', 'neg', 'neg', 'neg', 'neg', 'neg', 'neg', 'neg', 'neg', 'neg', 'neg', 'neg', 'neg', 'neg', 'neg', 'neg', 'neg', 'neg', 'neg', 'neg', 'neg', 'neg', 'neg', 'neg', 'neg', 'neg', 'neg', 'neg', 'neg', 'neg', 'neg', 'neg', 'neg', 'neg', 'neg', 'neg', 'neg', 'neg', 'neg', 'neg', 'neg', 'neg', 'neg', 'neg', 'neg', 'neg', 'neg', 'neg', 'neg', 'neg', 'neg', 'neg', 'neg', 'neg', 'neg', 'neg', 'neg', 'neg', 'neg', 'neg', 'neg', 'neg', 'neg', 'neg', 'neg', 'neg', 'neg', 'neg', 'neg', 'neg', 'neg', 'neg', 'neg', 'neg', 'neg', 'neg', 'neg', 'neg', 'neg', 'neg', 'neg', 'neg', 'neg', 'neg', 'neg', 'neg', 'neg', 'neg', 'neg', 'neg', 'neg', 'neg', 'neg', 'neg', 'neg', 'neg', 'neg', 'pos', 'neg', 'neg', 'neg', 'neg', 'neg', 'neg', 'neg', 'neg', 'neg', 'neg', 'pos', 'neg', 'neg', 'neg', 'neg', 'neg', 'neg', 'neg', 'neg', 'neg', 'neg', 'neg', 'neg', 'neg', 'neg', 'neg', 'neg', 'neg', 'neg', 'neg', 'neg', 'neg', 'neg', 'neg', 'neg', 'neg', 'neg', 'neg', 'neg', 'neg', 'neg', 'neg', 'neg', 'neg', 'neg', 'neg', 'neg', 'neg', 'neg', 'neg', 'neg', 'neg', 'neg', 'neg', 'neg', 'neg', 'neg', 'neg', 'neg', 'neg', 'neg', 'neg', 'neg', 'neg', 'neg', 'neg', 'neg', 'pos', 'pos', 'pos', 'pos', 'pos', 'pos', 'pos', 'pos', 'pos', 'pos', 'pos', 'pos', 'pos', 'pos', 'pos', 'pos', 'pos', 'pos', 'pos', 'pos', 'pos', 'pos', 'pos', 'pos', 'neg', 'pos', 'pos', 'pos', 'pos', 'pos', 'pos', 'pos', 'pos', 'pos', 'pos', 'pos', 'pos', 'pos', 'pos', 'pos', 'pos', 'pos', 'pos', 'pos', 'pos', 'pos', 'pos', 'pos', 'pos', 'pos', 'pos', 'pos', 'pos', 'pos', 'pos', 'pos', 'pos', 'neg', 'pos', 'pos', 'pos', 'pos', 'pos', 'pos', 'pos', 'pos', 'pos', 'pos', 'pos', 'pos', 'pos', 'pos', 'pos', 'pos', 'pos', 'pos', 'pos', 'pos', 'pos', 'pos', 'pos', 'pos', 'pos', 'pos', 'pos', 'pos', 'pos', 'pos', 'pos', 'pos', 'pos', 'pos', 'pos', 'pos', 'pos', 'pos', 'pos', 'pos', 'pos', 'pos', 'pos', 'pos', 'pos', 'neg', 'pos', 'pos', 'pos', 'pos', 'pos', 'pos', 'pos', 'pos', 'pos', 'pos', 'pos', 'pos', 'pos', 'pos', 'pos', 'pos', 'pos', 'pos', 'pos', 'pos', 'pos', 'neg', 'pos', 'pos', 'pos', 'pos', 'pos', 'pos', 'pos', 'pos', 'pos', 'pos', 'pos', 'pos', 'pos', 'pos', 'pos', 'pos', 'pos', 'pos', 'pos', 'pos', 'pos', 'pos', 'pos', 'pos', 'pos', 'neg', 'pos', 'pos', 'pos', 'pos', 'pos', 'pos', 'pos', 'pos', 'pos', 'pos', 'pos', 'pos', 'pos', 'pos', 'pos', 'pos', 'pos', 'pos', 'pos', 'pos', 'pos', 'pos', 'pos', 'pos', 'pos', 'pos', 'pos', 'pos', 'pos', 'pos', 'pos', 'pos', 'pos', 'pos', 'pos', 'pos', 'pos', 'pos', 'pos', 'pos', 'pos', 'pos', 'pos', 'pos', 'pos', 'pos', 'pos', 'pos', 'pos', 'pos', 'pos', 'pos', 'pos', 'pos', 'pos', 'pos', 'pos', 'pos', 'pos', 'pos', 'pos', 'pos', 'pos', 'pos', 'pos', 'pos', 'pos', 'pos', 'pos', 'pos', 'pos', 'pos', 'pos', 'pos', 'pos', 'pos', 'pos', 'pos', 'pos', 'pos', 'pos', 'pos', 'pos', 'pos', 'pos', 'pos', 'pos', 'pos', 'pos', 'pos', 'pos', 'pos', 'pos', 'pos', 'pos', 'pos', 'pos', 'pos', 'pos', 'pos', 'pos', 'pos', 'pos', 'pos', 'pos', 'pos', 'pos', 'pos', 'pos', 'pos', 'pos', 'pos', 'pos', 'pos', 'pos', 'pos', 'pos', 'pos', 'pos', 'pos', 'pos', 'pos', 'pos', 'pos', 'pos', 'pos', 'pos', 'pos', 'pos', 'pos', 'pos', 'pos', 'pos', 'pos', 'pos', 'pos', 'pos', 'pos', 'pos', 'pos', 'pos', 'pos', 'pos', 'pos', 'pos', 'pos', 'pos', 'pos', 'pos', 'pos', 'pos', 'pos', 'pos', 'pos', 'pos', 'pos', 'pos', 'pos', 'pos', 'pos', 'pos', 'pos', 'pos', 'pos', 'pos', 'pos', 'pos', 'pos', 'pos', 'pos', 'pos', 'pos', 'pos', 'pos', 'pos', 'pos', 'pos', 'pos', 'pos', 'pos', 'pos', 'pos', 'pos', 'pos', 'pos', 'pos', 'pos', 'pos', 'pos', 'pos', 'pos', 'pos', 'pos', 'pos', 'pos', 'pos', 'pos', 'pos', 'pos', 'pos', 'pos', 'pos', 'pos', 'pos', 'pos', 'pos', 'pos', 'pos', 'pos', 'pos', 'pos', 'pos', 'pos', 'pos', 'pos', 'pos', 'pos', 'pos', 'pos', 'pos', 'pos', 'pos', 'pos', 'pos', 'pos', 'pos', 'pos', 'pos', 'pos', 'pos', 'pos', 'pos', 'pos', 'pos', 'pos', 'pos', 'pos', 'pos', 'pos', 'pos', 'pos', 'pos', 'pos', 'pos', 'pos', 'pos', 'pos', 'pos', 'pos', 'pos', 'pos', 'pos', 'pos', 'pos', 'pos', 'pos', 'pos', 'pos', 'pos', 'pos', 'pos', 'pos', 'pos', 'pos', 'pos', 'pos', 'pos', 'pos', 'pos', 'pos', 'pos', 'pos', 'pos', 'pos', 'pos', 'pos', 'pos', 'pos', 'pos', 'pos', 'pos', 'pos', 'pos', 'pos', 'pos', 'pos', 'pos', 'pos', 'pos', 'pos', 'pos', 'pos', 'pos', 'pos', 'pos', 'pos', 'pos', 'pos', 'pos', 'pos', 'pos', 'pos', 'pos', 'pos', 'pos', 'pos', 'pos', 'pos', 'pos', 'pos', 'pos', 'pos', 'pos', 'pos', 'pos', 'pos', 'pos', 'pos', 'pos', 'pos', 'pos', 'pos', 'pos', 'pos', 'pos', 'pos', 'pos', 'pos', 'pos', 'pos', 'pos']\n"
          ],
          "name": "stdout"
        }
      ]
    },
    {
      "cell_type": "markdown",
      "metadata": {
        "id": "1KqHKLVR_fKf"
      },
      "source": [
        "# **Confusion Matrix**"
      ]
    },
    {
      "cell_type": "markdown",
      "metadata": {
        "id": "xsmujZccEggg"
      },
      "source": [
        "# **Prediction**"
      ]
    },
    {
      "cell_type": "code",
      "metadata": {
        "id": "am5oOR06EtR0",
        "colab": {
          "base_uri": "https://localhost:8080/",
          "height": 1000
        },
        "outputId": "14e1533d-e4da-49cd-b9c8-639658a903d2"
      },
      "source": [
        "import cv2, numpy as np\n",
        "\n",
        "from keras.applications.vgg16 import VGG16\n",
        "from keras.preprocessing import image\n",
        "from keras.applications.vgg16 import preprocess_input, decode_predictions\n",
        "\n",
        "'''\n",
        "im1 = cv2.resize(cv2.imread('/content/drive/MyDrive/New_Data/prediction/Negative5.png'), (48, 48)).astype(np.float32)\n",
        "im1= image.img_to_array(im1)\n",
        "im1= np.expand_dims(im1, axis=1)\n",
        "im2 =  preprocess_input(im1)\n",
        "\n",
        "im2 = cv2.resize(cv2.imread('/content/drive/MyDrive/New_Data/prediction/Negative6.png'), (48, 48)).astype(np.float32)\n",
        "im2 = image.img_to_array(im2)\n",
        "im2= np.expand_dims(im2, axis=1)\n",
        "im2 =  preprocess_input(im2)\n",
        "\n",
        "weight = vgg16_model.get_weights()\n",
        "print(weight)\n",
        "'''\n",
        "\n",
        "'''\n",
        "pred_images = []\n",
        "pred_path = '/content/drive/MyDrive/New_Data/prediction'\n",
        "\n",
        "for filename in os.listdir(pred_path):\n",
        "        img = cv2.imread(os.path.join(pred_path,filename))\n",
        "        if img is not None:\n",
        "            img_new = cv2.resize(img,(48,48)).astype(np.float32)\n",
        "            img_new = image.img_to_array(img_new)\n",
        "            img_new= np.expand_dims(img_new, axis=0)\n",
        "            img_new =  preprocess_input(img_new)\n",
        "            pred_images.append(img_new)\n",
        "\n",
        "weight = vgg16_model.get_weights()\n",
        "print(weight)  \n",
        "'''\n",
        "'''            \n",
        "test_datagen = ImageDataGenerator(rescale=1./255)\n",
        "\n",
        "test_generator = test_datagen.flow_from_directory(\n",
        "test_pred_path,\n",
        "target_size=(48, 48),\n",
        "batch_size=batch_size,\n",
        "class_mode='categorical', shuffle = False,color_mode = 'rgb')\n",
        "\n",
        "test_loss, test_acc = vgg16_model.evaluate(test_generator, steps = 1)\n",
        "print('test acc:', test_acc)\n",
        "'''\n",
        "\n",
        "img_names = []\n",
        "test_pred_images = []\n",
        "test_pred_path = '/content/drive/MyDrive/New_Data/prediction/Pos_Neg_new/'\n",
        "label = []\n",
        "\n",
        "for filename in os.listdir(test_pred_path):\n",
        "        img = cv2.imread(os.path.join(test_pred_path,filename))\n",
        "        if img is not None:\n",
        "            print(filename)\n",
        "            img_names.append(filename) \n",
        "            i = cv2_imshow(img)\n",
        "            img_new = cv2.resize(img,(48,48)).astype(np.float32)\n",
        "            img_new = image.img_to_array(img_new)\n",
        "            img_new= np.expand_dims(img_new, axis=0)\n",
        "            img_new =  preprocess_input(img_new)\n",
        "            test_pred_images.append(img_new)\n",
        "            \n"
      ],
      "execution_count": 17,
      "outputs": [
        {
          "output_type": "stream",
          "text": [
            "Neg9.png\n"
          ],
          "name": "stdout"
        },
        {
          "output_type": "display_data",
          "data": {
            "image/png": "[encoded data removed]",
            "text/plain": [
              "<PIL.Image.Image image mode=RGB size=48x48 at 0x7FF0711DEB90>"
            ]
          },
          "metadata": {
            "tags": []
          }
        },
        {
          "output_type": "stream",
          "text": [
            "Neg10.png\n"
          ],
          "name": "stdout"
        },
        {
          "output_type": "display_data",
          "data": {
            "image/png": "[encoded data removed]",
            "text/plain": [
              "<PIL.Image.Image image mode=RGB size=48x48 at 0x7FF0711DE7D0>"
            ]
          },
          "metadata": {
            "tags": []
          }
        },
        {
          "output_type": "stream",
          "text": [
            "Neg11.png\n"
          ],
          "name": "stdout"
        },
        {
          "output_type": "display_data",
          "data": {
            "image/png": "[encoded data removed]",
            "text/plain": [
              "<PIL.Image.Image image mode=RGB size=48x48 at 0x7FF0711DE790>"
            ]
          },
          "metadata": {
            "tags": []
          }
        },
        {
          "output_type": "stream",
          "text": [
            "Neg13.png\n"
          ],
          "name": "stdout"
        },
        {
          "output_type": "display_data",
          "data": {
            "image/png": "[encoded data removed]",
            "text/plain": [
              "<PIL.Image.Image image mode=RGB size=48x48 at 0x7FF0711DE510>"
            ]
          },
          "metadata": {
            "tags": []
          }
        },
        {
          "output_type": "stream",
          "text": [
            "Pos15.png\n"
          ],
          "name": "stdout"
        },
        {
          "output_type": "display_data",
          "data": {
            "image/png": "[encoded data removed]",
            "text/plain": [
              "<PIL.Image.Image image mode=RGB size=50x50 at 0x7FF0711DE510>"
            ]
          },
          "metadata": {
            "tags": []
          }
        },
        {
          "output_type": "stream",
          "text": [
            "Neg7.png\n"
          ],
          "name": "stdout"
        },
        {
          "output_type": "display_data",
          "data": {
            "image/png": "[encoded data removed]",
            "text/plain": [
              "<PIL.Image.Image image mode=RGB size=48x48 at 0x7FF0711DE910>"
            ]
          },
          "metadata": {
            "tags": []
          }
        },
        {
          "output_type": "stream",
          "text": [
            "Neg12.png\n"
          ],
          "name": "stdout"
        },
        {
          "output_type": "display_data",
          "data": {
            "image/png": "[encoded data removed]",
            "text/plain": [
              "<PIL.Image.Image image mode=RGB size=48x48 at 0x7FF0711DE2D0>"
            ]
          },
          "metadata": {
            "tags": []
          }
        },
        {
          "output_type": "stream",
          "text": [
            "Neg8.png\n"
          ],
          "name": "stdout"
        },
        {
          "output_type": "display_data",
          "data": {
            "image/png": "[encoded data removed]",
            "text/plain": [
              "<PIL.Image.Image image mode=RGB size=48x48 at 0x7FF0711DE190>"
            ]
          },
          "metadata": {
            "tags": []
          }
        },
        {
          "output_type": "stream",
          "text": [
            "Pos13.png\n"
          ],
          "name": "stdout"
        },
        {
          "output_type": "display_data",
          "data": {
            "image/png": "[encoded data removed]",
            "text/plain": [
              "<PIL.Image.Image image mode=RGB size=50x50 at 0x7FF0711DE910>"
            ]
          },
          "metadata": {
            "tags": []
          }
        },
        {
          "output_type": "stream",
          "text": [
            "Pos14.png\n"
          ],
          "name": "stdout"
        },
        {
          "output_type": "display_data",
          "data": {
            "image/png": "[encoded data removed]",
            "text/plain": [
              "<PIL.Image.Image image mode=RGB size=50x50 at 0x7FF0711DE390>"
            ]
          },
          "metadata": {
            "tags": []
          }
        },
        {
          "output_type": "stream",
          "text": [
            "Pos16.png\n"
          ],
          "name": "stdout"
        },
        {
          "output_type": "display_data",
          "data": {
            "image/png": "[encoded data removed]",
            "text/plain": [
              "<PIL.Image.Image image mode=RGB size=50x50 at 0x7FF0711DE190>"
            ]
          },
          "metadata": {
            "tags": []
          }
        },
        {
          "output_type": "stream",
          "text": [
            "Pos10.png\n"
          ],
          "name": "stdout"
        },
        {
          "output_type": "display_data",
          "data": {
            "image/png": "[encoded data removed]",
            "text/plain": [
              "<PIL.Image.Image image mode=RGB size=50x50 at 0x7FF0711DE290>"
            ]
          },
          "metadata": {
            "tags": []
          }
        },
        {
          "output_type": "stream",
          "text": [
            "Pos7.png\n"
          ],
          "name": "stdout"
        },
        {
          "output_type": "display_data",
          "data": {
            "image/png": "[encoded data removed]",
            "text/plain": [
              "<PIL.Image.Image image mode=RGB size=50x50 at 0x7FF0711DE610>"
            ]
          },
          "metadata": {
            "tags": []
          }
        },
        {
          "output_type": "stream",
          "text": [
            "Pos12.png\n"
          ],
          "name": "stdout"
        },
        {
          "output_type": "display_data",
          "data": {
            "image/png": "[encoded data removed]",
            "text/plain": [
              "<PIL.Image.Image image mode=RGB size=50x50 at 0x7FF0711DE310>"
            ]
          },
          "metadata": {
            "tags": []
          }
        },
        {
          "output_type": "stream",
          "text": [
            "Pos9.png\n"
          ],
          "name": "stdout"
        },
        {
          "output_type": "display_data",
          "data": {
            "image/png": "[encoded data removed]",
            "text/plain": [
              "<PIL.Image.Image image mode=RGB size=50x50 at 0x7FF0711DE150>"
            ]
          },
          "metadata": {
            "tags": []
          }
        },
        {
          "output_type": "stream",
          "text": [
            "Pos11.png\n"
          ],
          "name": "stdout"
        },
        {
          "output_type": "display_data",
          "data": {
            "image/png": "[encoded data removed]",
            "text/plain": [
              "<PIL.Image.Image image mode=RGB size=50x50 at 0x7FF0711DE0D0>"
            ]
          },
          "metadata": {
            "tags": []
          }
        },
        {
          "output_type": "stream",
          "text": [
            "Pos6.png\n"
          ],
          "name": "stdout"
        },
        {
          "output_type": "display_data",
          "data": {
            "image/png": "[encoded data removed]",
            "text/plain": [
              "<PIL.Image.Image image mode=RGB size=50x50 at 0x7FF0711DE150>"
            ]
          },
          "metadata": {
            "tags": []
          }
        },
        {
          "output_type": "stream",
          "text": [
            "Pos5.png\n"
          ],
          "name": "stdout"
        },
        {
          "output_type": "display_data",
          "data": {
            "image/png": "[encoded data removed]",
            "text/plain": [
              "<PIL.Image.Image image mode=RGB size=50x50 at 0x7FF0714179D0>"
            ]
          },
          "metadata": {
            "tags": []
          }
        },
        {
          "output_type": "stream",
          "text": [
            "Pos8.png\n"
          ],
          "name": "stdout"
        },
        {
          "output_type": "display_data",
          "data": {
            "image/png": "[encoded data removed]",
            "text/plain": [
              "<PIL.Image.Image image mode=RGB size=50x50 at 0x7FF0714179D0>"
            ]
          },
          "metadata": {
            "tags": []
          }
        },
        {
          "output_type": "stream",
          "text": [
            "Neg14.png\n"
          ],
          "name": "stdout"
        },
        {
          "output_type": "display_data",
          "data": {
            "image/png": "[encoded data removed]",
            "text/plain": [
              "<PIL.Image.Image image mode=RGB size=48x48 at 0x7FF0714170D0>"
            ]
          },
          "metadata": {
            "tags": []
          }
        }
      ]
    },
    {
      "cell_type": "code",
      "metadata": {
        "id": "BjPbmlAzEduh",
        "colab": {
          "base_uri": "https://localhost:8080/"
        },
        "outputId": "35c6fda6-16a5-431f-8fbc-396165b9bf5f"
      },
      "source": [
        "'''\n",
        "out2 = vgg16_model.predict(im2, batch_size=batch_size, verbose=1, steps=1, callbacks=callbacks_list)\n",
        "print('positive preditcion %')\n",
        "print(out2[0][0])\n",
        "print('Negative preditcion %')\n",
        "print(out2[0][1])\n",
        "\n",
        "if out2[0][0] > out2[0][1]:\n",
        "    print(\"The image is positive\")\n",
        "if out2[0][0] < out2[0][1]:\n",
        "    print('The image is Negative')  \n",
        "\n",
        "'''\n",
        "\n",
        "\n",
        "from keras import backend as K\n",
        "if K.image_data_format() == 'channels_first':\n",
        " input_shape = (3, 48, 48)\n",
        "else:\n",
        " input_shape = (48, 48, 3)\n",
        "\n",
        "labels = [0,1]\n",
        "\n",
        "\n",
        "for x in img_names:\n",
        "  z = 0\n",
        "  print(\" True Classes are : \",x)\n",
        "\n",
        "\n",
        "for i in test_pred_images:\n",
        "  \n",
        "  \n",
        "  out1 = vgg16_model.predict(i, batch_size=batch_size, verbose=1, steps=1, callbacks=callbacks_list)\n",
        "  arg = np.argmax(out1, axis = 1)\n",
        "  print(\"predicted class : \",arg)\n",
        " \n",
        "  print('-----------------------------------------------') \n",
        "  print('-----------------------------------------------') \n",
        "\n",
        "  print('neg preditcion %')\n",
        "  print(out1[0][0])\n",
        "  print('pos preditcion %')\n",
        "  print(out1[0][1])\n",
        "\n",
        "\n",
        "  if out1[0][0] > out1[0][1] :\n",
        "      print(\"{\")\n",
        "      print(\"The image is neg\")\n",
        "      print(\"}\")\n",
        "  if out1[0][1] > out1[0][0] :\n",
        "      print(\"{\")\n",
        "      print('The image is pos')\n",
        "      print(\"}\")\n",
        " \n",
        "  print('-----------------------------------------------') \n",
        "  print('-----------------------------------------------') \n",
        "\n",
        "  print(out1)\n",
        "\n",
        "  print('-----------------------------------------------') \n",
        "  print('-----------------------------------------------') \n",
        "\n",
        "  print(\"Confusion matrix : \")\n",
        "  M1= tf.math.confusion_matrix(\n",
        "      labels,out1[0], num_classes=2, weights=None, dtype=tf.dtypes.float32\n",
        "  )\n",
        "  print(M1)\n",
        "  print('***********************************************')\n",
        "\n",
        "test_pred_images.clear()\n",
        "img_names.clear()\n"
      ],
      "execution_count": 18,
      "outputs": [
        {
          "output_type": "stream",
          "text": [
            " True Classes are :  Neg9.png\n",
            " True Classes are :  Neg10.png\n",
            " True Classes are :  Neg11.png\n",
            " True Classes are :  Neg13.png\n",
            " True Classes are :  Pos15.png\n",
            " True Classes are :  Neg7.png\n",
            " True Classes are :  Neg12.png\n",
            " True Classes are :  Neg8.png\n",
            " True Classes are :  Pos13.png\n",
            " True Classes are :  Pos14.png\n",
            " True Classes are :  Pos16.png\n",
            " True Classes are :  Pos10.png\n",
            " True Classes are :  Pos7.png\n",
            " True Classes are :  Pos12.png\n",
            " True Classes are :  Pos9.png\n",
            " True Classes are :  Pos11.png\n",
            " True Classes are :  Pos6.png\n",
            " True Classes are :  Pos5.png\n",
            " True Classes are :  Pos8.png\n",
            " True Classes are :  Neg14.png\n",
            "1/1 [==============================] - 0s 402ms/step\n",
            "predicted class :  [0]\n",
            "-----------------------------------------------\n",
            "-----------------------------------------------\n",
            "neg preditcion %\n",
            "0.9925333\n",
            "pos preditcion %\n",
            "0.0074666133\n",
            "{\n",
            "The image is neg\n",
            "}\n",
            "-----------------------------------------------\n",
            "-----------------------------------------------\n",
            "[[0.99 0.01]]\n",
            "-----------------------------------------------\n",
            "-----------------------------------------------\n",
            "Confusion matrix : \n",
            "tf.Tensor(\n",
            "[[1. 0.]\n",
            " [1. 0.]], shape=(2, 2), dtype=float32)\n",
            "***********************************************\n",
            "1/1 [==============================] - 0s 15ms/step\n",
            "predicted class :  [0]\n",
            "-----------------------------------------------\n",
            "-----------------------------------------------\n",
            "neg preditcion %\n",
            "1.0\n",
            "pos preditcion %\n",
            "0.0\n",
            "{\n",
            "The image is neg\n",
            "}\n",
            "-----------------------------------------------\n",
            "-----------------------------------------------\n",
            "[[1. 0.]]\n",
            "-----------------------------------------------\n",
            "-----------------------------------------------\n",
            "Confusion matrix : \n",
            "tf.Tensor(\n",
            "[[0. 1.]\n",
            " [1. 0.]], shape=(2, 2), dtype=float32)\n",
            "***********************************************\n",
            "1/1 [==============================] - 0s 22ms/step\n",
            "predicted class :  [0]\n",
            "-----------------------------------------------\n",
            "-----------------------------------------------\n",
            "neg preditcion %\n",
            "1.0\n",
            "pos preditcion %\n",
            "0.0\n",
            "{\n",
            "The image is neg\n",
            "}\n",
            "-----------------------------------------------\n",
            "-----------------------------------------------\n",
            "[[1. 0.]]\n",
            "-----------------------------------------------\n",
            "-----------------------------------------------\n",
            "Confusion matrix : \n",
            "tf.Tensor(\n",
            "[[0. 1.]\n",
            " [1. 0.]], shape=(2, 2), dtype=float32)\n",
            "***********************************************\n",
            "1/1 [==============================] - 0s 16ms/step\n",
            "predicted class :  [0]\n",
            "-----------------------------------------------\n",
            "-----------------------------------------------\n",
            "neg preditcion %\n",
            "1.0\n",
            "pos preditcion %\n",
            "0.0\n",
            "{\n",
            "The image is neg\n",
            "}\n",
            "-----------------------------------------------\n",
            "-----------------------------------------------\n",
            "[[1. 0.]]\n",
            "-----------------------------------------------\n",
            "-----------------------------------------------\n",
            "Confusion matrix : \n",
            "tf.Tensor(\n",
            "[[0. 1.]\n",
            " [1. 0.]], shape=(2, 2), dtype=float32)\n",
            "***********************************************\n",
            "1/1 [==============================] - 0s 19ms/step\n",
            "predicted class :  [0]\n",
            "-----------------------------------------------\n",
            "-----------------------------------------------\n",
            "neg preditcion %\n",
            "0.5006978\n",
            "pos preditcion %\n",
            "0.4993022\n",
            "{\n",
            "The image is neg\n",
            "}\n",
            "-----------------------------------------------\n",
            "-----------------------------------------------\n",
            "[[0.5 0.5]]\n",
            "-----------------------------------------------\n",
            "-----------------------------------------------\n",
            "Confusion matrix : \n",
            "tf.Tensor(\n",
            "[[1. 0.]\n",
            " [1. 0.]], shape=(2, 2), dtype=float32)\n",
            "***********************************************\n",
            "1/1 [==============================] - 0s 19ms/step\n",
            "predicted class :  [0]\n",
            "-----------------------------------------------\n",
            "-----------------------------------------------\n",
            "neg preditcion %\n",
            "1.0\n",
            "pos preditcion %\n",
            "0.0\n",
            "{\n",
            "The image is neg\n",
            "}\n",
            "-----------------------------------------------\n",
            "-----------------------------------------------\n",
            "[[1. 0.]]\n",
            "-----------------------------------------------\n",
            "-----------------------------------------------\n",
            "Confusion matrix : \n",
            "tf.Tensor(\n",
            "[[0. 1.]\n",
            " [1. 0.]], shape=(2, 2), dtype=float32)\n",
            "***********************************************\n",
            "1/1 [==============================] - 0s 20ms/step\n",
            "predicted class :  [0]\n",
            "-----------------------------------------------\n",
            "-----------------------------------------------\n",
            "neg preditcion %\n",
            "1.0\n",
            "pos preditcion %\n",
            "0.0\n",
            "{\n",
            "The image is neg\n",
            "}\n",
            "-----------------------------------------------\n",
            "-----------------------------------------------\n",
            "[[1. 0.]]\n",
            "-----------------------------------------------\n",
            "-----------------------------------------------\n",
            "Confusion matrix : \n",
            "tf.Tensor(\n",
            "[[0. 1.]\n",
            " [1. 0.]], shape=(2, 2), dtype=float32)\n",
            "***********************************************\n",
            "1/1 [==============================] - 0s 16ms/step\n",
            "predicted class :  [0]\n",
            "-----------------------------------------------\n",
            "-----------------------------------------------\n",
            "neg preditcion %\n",
            "1.0\n",
            "pos preditcion %\n",
            "2.4240952e-18\n",
            "{\n",
            "The image is neg\n",
            "}\n",
            "-----------------------------------------------\n",
            "-----------------------------------------------\n",
            "[[1.00e+00 2.42e-18]]\n",
            "-----------------------------------------------\n",
            "-----------------------------------------------\n",
            "Confusion matrix : \n",
            "tf.Tensor(\n",
            "[[0. 1.]\n",
            " [1. 0.]], shape=(2, 2), dtype=float32)\n",
            "***********************************************\n",
            "1/1 [==============================] - 0s 16ms/step\n",
            "predicted class :  [0]\n",
            "-----------------------------------------------\n",
            "-----------------------------------------------\n",
            "neg preditcion %\n",
            "0.9577671\n",
            "pos preditcion %\n",
            "0.042232912\n",
            "{\n",
            "The image is neg\n",
            "}\n",
            "-----------------------------------------------\n",
            "-----------------------------------------------\n",
            "[[0.96 0.04]]\n",
            "-----------------------------------------------\n",
            "-----------------------------------------------\n",
            "Confusion matrix : \n",
            "tf.Tensor(\n",
            "[[1. 0.]\n",
            " [1. 0.]], shape=(2, 2), dtype=float32)\n",
            "***********************************************\n",
            "1/1 [==============================] - 0s 15ms/step\n",
            "predicted class :  [0]\n",
            "-----------------------------------------------\n",
            "-----------------------------------------------\n",
            "neg preditcion %\n",
            "1.0\n",
            "pos preditcion %\n",
            "8.511885e-09\n",
            "{\n",
            "The image is neg\n",
            "}\n",
            "-----------------------------------------------\n",
            "-----------------------------------------------\n",
            "[[1.00e+00 8.51e-09]]\n",
            "-----------------------------------------------\n",
            "-----------------------------------------------\n",
            "Confusion matrix : \n",
            "tf.Tensor(\n",
            "[[0. 1.]\n",
            " [1. 0.]], shape=(2, 2), dtype=float32)\n",
            "***********************************************\n",
            "1/1 [==============================] - 0s 16ms/step\n",
            "predicted class :  [0]\n",
            "-----------------------------------------------\n",
            "-----------------------------------------------\n",
            "neg preditcion %\n",
            "1.0\n",
            "pos preditcion %\n",
            "0.0\n",
            "{\n",
            "The image is neg\n",
            "}\n",
            "-----------------------------------------------\n",
            "-----------------------------------------------\n",
            "[[1. 0.]]\n",
            "-----------------------------------------------\n",
            "-----------------------------------------------\n",
            "Confusion matrix : \n",
            "tf.Tensor(\n",
            "[[0. 1.]\n",
            " [1. 0.]], shape=(2, 2), dtype=float32)\n",
            "***********************************************\n",
            "1/1 [==============================] - 0s 17ms/step\n",
            "predicted class :  [0]\n",
            "-----------------------------------------------\n",
            "-----------------------------------------------\n",
            "neg preditcion %\n",
            "1.0\n",
            "pos preditcion %\n",
            "0.0\n",
            "{\n",
            "The image is neg\n",
            "}\n",
            "-----------------------------------------------\n",
            "-----------------------------------------------\n",
            "[[1. 0.]]\n",
            "-----------------------------------------------\n",
            "-----------------------------------------------\n",
            "Confusion matrix : \n",
            "tf.Tensor(\n",
            "[[0. 1.]\n",
            " [1. 0.]], shape=(2, 2), dtype=float32)\n",
            "***********************************************\n",
            "1/1 [==============================] - 0s 17ms/step\n",
            "predicted class :  [0]\n",
            "-----------------------------------------------\n",
            "-----------------------------------------------\n",
            "neg preditcion %\n",
            "1.0\n",
            "pos preditcion %\n",
            "0.0\n",
            "{\n",
            "The image is neg\n",
            "}\n",
            "-----------------------------------------------\n",
            "-----------------------------------------------\n",
            "[[1. 0.]]\n",
            "-----------------------------------------------\n",
            "-----------------------------------------------\n",
            "Confusion matrix : \n",
            "tf.Tensor(\n",
            "[[0. 1.]\n",
            " [1. 0.]], shape=(2, 2), dtype=float32)\n",
            "***********************************************\n",
            "1/1 [==============================] - 0s 19ms/step\n",
            "predicted class :  [0]\n",
            "-----------------------------------------------\n",
            "-----------------------------------------------\n",
            "neg preditcion %\n",
            "1.0\n",
            "pos preditcion %\n",
            "1.975835e-32\n",
            "{\n",
            "The image is neg\n",
            "}\n",
            "-----------------------------------------------\n",
            "-----------------------------------------------\n",
            "[[1.00e+00 1.98e-32]]\n",
            "-----------------------------------------------\n",
            "-----------------------------------------------\n",
            "Confusion matrix : \n",
            "tf.Tensor(\n",
            "[[0. 1.]\n",
            " [1. 0.]], shape=(2, 2), dtype=float32)\n",
            "***********************************************\n",
            "1/1 [==============================] - 0s 20ms/step\n",
            "predicted class :  [0]\n",
            "-----------------------------------------------\n",
            "-----------------------------------------------\n",
            "neg preditcion %\n",
            "1.0\n",
            "pos preditcion %\n",
            "4.5280044e-36\n",
            "{\n",
            "The image is neg\n",
            "}\n",
            "-----------------------------------------------\n",
            "-----------------------------------------------\n",
            "[[1.00e+00 4.53e-36]]\n",
            "-----------------------------------------------\n",
            "-----------------------------------------------\n",
            "Confusion matrix : \n",
            "tf.Tensor(\n",
            "[[0. 1.]\n",
            " [1. 0.]], shape=(2, 2), dtype=float32)\n",
            "***********************************************\n",
            "1/1 [==============================] - 0s 22ms/step\n",
            "predicted class :  [0]\n",
            "-----------------------------------------------\n",
            "-----------------------------------------------\n",
            "neg preditcion %\n",
            "0.5724947\n",
            "pos preditcion %\n",
            "0.42750534\n",
            "{\n",
            "The image is neg\n",
            "}\n",
            "-----------------------------------------------\n",
            "-----------------------------------------------\n",
            "[[0.57 0.43]]\n",
            "-----------------------------------------------\n",
            "-----------------------------------------------\n",
            "Confusion matrix : \n",
            "tf.Tensor(\n",
            "[[1. 0.]\n",
            " [1. 0.]], shape=(2, 2), dtype=float32)\n",
            "***********************************************\n",
            "1/1 [==============================] - 0s 18ms/step\n",
            "predicted class :  [0]\n",
            "-----------------------------------------------\n",
            "-----------------------------------------------\n",
            "neg preditcion %\n",
            "0.88524246\n",
            "pos preditcion %\n",
            "0.114757515\n",
            "{\n",
            "The image is neg\n",
            "}\n",
            "-----------------------------------------------\n",
            "-----------------------------------------------\n",
            "[[0.89 0.11]]\n",
            "-----------------------------------------------\n",
            "-----------------------------------------------\n",
            "Confusion matrix : \n",
            "tf.Tensor(\n",
            "[[1. 0.]\n",
            " [1. 0.]], shape=(2, 2), dtype=float32)\n",
            "***********************************************\n",
            "1/1 [==============================] - 0s 20ms/step\n",
            "predicted class :  [0]\n",
            "-----------------------------------------------\n",
            "-----------------------------------------------\n",
            "neg preditcion %\n",
            "1.0\n",
            "pos preditcion %\n",
            "7.1405246e-22\n",
            "{\n",
            "The image is neg\n",
            "}\n",
            "-----------------------------------------------\n",
            "-----------------------------------------------\n",
            "[[1.00e+00 7.14e-22]]\n",
            "-----------------------------------------------\n",
            "-----------------------------------------------\n",
            "Confusion matrix : \n",
            "tf.Tensor(\n",
            "[[0. 1.]\n",
            " [1. 0.]], shape=(2, 2), dtype=float32)\n",
            "***********************************************\n",
            "1/1 [==============================] - 0s 19ms/step\n",
            "predicted class :  [0]\n",
            "-----------------------------------------------\n",
            "-----------------------------------------------\n",
            "neg preditcion %\n",
            "1.0\n",
            "pos preditcion %\n",
            "2.5996822e-26\n",
            "{\n",
            "The image is neg\n",
            "}\n",
            "-----------------------------------------------\n",
            "-----------------------------------------------\n",
            "[[1.0e+00 2.6e-26]]\n",
            "-----------------------------------------------\n",
            "-----------------------------------------------\n",
            "Confusion matrix : \n",
            "tf.Tensor(\n",
            "[[0. 1.]\n",
            " [1. 0.]], shape=(2, 2), dtype=float32)\n",
            "***********************************************\n",
            "1/1 [==============================] - 0s 19ms/step\n",
            "predicted class :  [0]\n",
            "-----------------------------------------------\n",
            "-----------------------------------------------\n",
            "neg preditcion %\n",
            "1.0\n",
            "pos preditcion %\n",
            "0.0\n",
            "{\n",
            "The image is neg\n",
            "}\n",
            "-----------------------------------------------\n",
            "-----------------------------------------------\n",
            "[[1. 0.]]\n",
            "-----------------------------------------------\n",
            "-----------------------------------------------\n",
            "Confusion matrix : \n",
            "tf.Tensor(\n",
            "[[0. 1.]\n",
            " [1. 0.]], shape=(2, 2), dtype=float32)\n",
            "***********************************************\n"
          ],
          "name": "stdout"
        }
      ]
    },
    {
      "cell_type": "markdown",
      "metadata": {
        "id": "2CW5kVf5R8Ux"
      },
      "source": [
        "## ***Save model ***"
      ]
    },
    {
      "cell_type": "code",
      "metadata": {
        "id": "hQhMWnX98GO8",
        "colab": {
          "base_uri": "https://localhost:8080/"
        },
        "outputId": "f6eeb035-bddb-4367-b1aa-17e45efae121"
      },
      "source": [
        "#vgg16_model.save('vgg16_classifier.h5')\n",
        " \n",
        "#print('model saved with name vgg16-classifier.h5  at'  )\n",
        "#!pwd\n",
        "\n",
        "model_json = vgg16_model.to_json()\n",
        "with open(\"/content/drive/My Drive/New_Data/Save_Models/Pos_Neg_model.json\", \"w\") as json_file:\n",
        "    json_file.write(model_json)\n",
        "\n",
        "print('model saved with name Pos_Neg_model.json  at /content/drive/My Drive/New_Data/Save_Models/'  )\n",
        "\n",
        "\n",
        "vgg16_model.save_weights(\"/content/drive/My Drive/New_Data/Save_Models/Pos_Neg_model_weights.h5\")\n",
        "print('model Weights saved with name model_weights.h5  at /content/drive/My Drive/New_Data/Save_Models/'  )\n"
      ],
      "execution_count": 19,
      "outputs": [
        {
          "output_type": "stream",
          "text": [
            "model saved with name Pos_Neg_model.json  at /content/drive/My Drive/New_Data/Save_Models/\n",
            "model Weights saved with name model_weights.h5  at /content/drive/My Drive/New_Data/Save_Models/\n"
          ],
          "name": "stdout"
        }
      ]
    },
    {
      "cell_type": "markdown",
      "metadata": {
        "id": "MeRBUbAJSNtN"
      },
      "source": [
        "# ***Loard the JSON File***"
      ]
    },
    {
      "cell_type": "code",
      "metadata": {
        "id": "sNYoy4thScq9",
        "colab": {
          "base_uri": "https://localhost:8080/"
        },
        "outputId": "7b1ca7b6-a61e-4089-d79b-07126aba15ae"
      },
      "source": [
        "# imports\n",
        "\n",
        "from keras.models  import model_from_json \n",
        "\n",
        "# opening and store file in a variable\n",
        "\n",
        "json_file = open('/content/drive/My Drive/New_Data/Save_Models/Pos_Neg_model.json','r')\n",
        "loaded_model_json = json_file.read()\n",
        "json_file.close()\n",
        "\n",
        "\n",
        "loaded_model = model_from_json(loaded_model_json)\n",
        "\n",
        "# load weights into new model\n",
        "\n",
        "loaded_model.load_weights(\"/content/drive/My Drive/New_Data/Save_Models/Pos_Neg_model_weights.h5\")\n",
        "print(\"Loaded Model from disk\")\n",
        "\n",
        "# compile and evaluate loaded model\n",
        "loaded_model.compile(loss='categorical_crossentropy',optimizer='Adamax',metrics=['accuracy'])\n",
        "\n"
      ],
      "execution_count": 20,
      "outputs": [
        {
          "output_type": "stream",
          "text": [
            "Loaded Model from disk\n"
          ],
          "name": "stdout"
        }
      ]
    },
    {
      "cell_type": "markdown",
      "metadata": {
        "id": "N1tJag245qUi"
      },
      "source": [
        "# **Load File**"
      ]
    },
    {
      "cell_type": "code",
      "metadata": {
        "id": "ja9y72ag5sbm"
      },
      "source": [
        "import numpy as np\n",
        "import keras.models\n",
        "from keras.models import model_from_json\n",
        "import tensorflow as tf\n",
        "\n",
        "\n",
        "def init_Pos_Neg(): \n",
        "    json_file = open('/content/drive/My Drive/New_Data/Save_Models/Pos_Neg_model.json','r')\n",
        "    loaded_model_json = json_file.read()\n",
        "    json_file.close()\n",
        "    loaded_model = model_from_json(loaded_model_json)\n",
        "    loaded_model.load_weights(\"/content/drive/My Drive/New_Data/Save_Models/Pos_Neg_model_weights.h5\")\n",
        "    print(\"Loaded Model from disk\")\n",
        "    loaded_model.compile(loss='categorical_crossentropy',optimizer='Adamax',metrics=['accuracy'])\n",
        "    graph = tf.compat.v1.get_default_graph()\n",
        "\n",
        "    return loaded_model,graph\n",
        "\n",
        "\n"
      ],
      "execution_count": 21,
      "outputs": []
    },
    {
      "cell_type": "markdown",
      "metadata": {
        "id": "UZpX1hN2Bv1t"
      },
      "source": [
        "\n",
        "# **App Loading Model For Pos & Neg** \n",
        "\n"
      ]
    },
    {
      "cell_type": "code",
      "metadata": {
        "colab": {
          "base_uri": "https://localhost:8080/",
          "height": 1000
        },
        "id": "zW-W7QLXBwfR",
        "outputId": "08dc08e9-15eb-465b-bd1c-0beba8abdd94"
      },
      "source": [
        "import numpy as np\n",
        "import keras.models\n",
        "import re\n",
        "import sys \n",
        "import os\n",
        "import base64\n",
        "sys.path.append(os.path.abspath(\"./Save_Models\"))\n",
        "\n",
        "\n",
        "global graph, model\n",
        "tf.compat.v1.disable_eager_execution()\n",
        "\n",
        "model, graph = init_Pos_Neg()\n",
        "\n",
        "img_names = []\n",
        "test_pred_images = []\n",
        "test_pred_path = '/content/drive/MyDrive/New_Data/prediction/Pos_Neg_new/'\n",
        "label = []\n",
        "\n",
        "def predict():\n",
        "      for filename in os.listdir(test_pred_path):\n",
        "        img = cv2.imread(os.path.join(test_pred_path,filename))\n",
        "        if img is not None:\n",
        "            print(filename)\n",
        "            img_names.append(filename) \n",
        "            i = cv2_imshow(img)\n",
        "            img_new = cv2.resize(img,(48,48)).astype(np.float32)\n",
        "            img_new = image.img_to_array(img_new)\n",
        "            img_new= np.expand_dims(img_new, axis=0)\n",
        "            img_new =  preprocess_input(img_new)\n",
        "            test_pred_images.append(img_new)\n",
        "\n",
        "      with graph.as_default():\n",
        "          for x in img_names:\n",
        "              z = 0\n",
        "              print(\" True Classes are : \",x)\n",
        "\n",
        "\n",
        "          for i in test_pred_images:\n",
        "            \n",
        "            out1 = model.predict(i, verbose=1)\n",
        "            arg = np.argmax(out1, axis = 1)\n",
        "            print(\"predicted class : \",arg)\n",
        "          \n",
        "            print('-----------------------------------------------') \n",
        "            print('-----------------------------------------------') \n",
        "\n",
        "            print('neg preditcion %')\n",
        "            print(out1[0][0])\n",
        "            print('pos preditcion %')\n",
        "            print(out1[0][1])\n",
        "\n",
        "\n",
        "            if out1[0][0] > out1[0][1] :\n",
        "                print(\"{\")\n",
        "                print(\"The image is neg\")\n",
        "                print(\"}\")\n",
        "            if out1[0][1] > out1[0][0] :\n",
        "                print(\"{\")\n",
        "                print('The image is pos')\n",
        "                print(\"}\")\n",
        "          \n",
        "            print('-----------------------------------------------') \n",
        "            print('-----------------------------------------------') \n",
        "\n",
        "            print(out1)\n",
        "\n",
        "            print('-----------------------------------------------') \n",
        "            print('-----------------------------------------------') \n",
        "\n",
        "          return print (\"Done\")\n",
        "\n",
        "predict()\n",
        "test_pred_images.clear()\n",
        "img_names.clear()"
      ],
      "execution_count": 24,
      "outputs": [
        {
          "output_type": "stream",
          "text": [
            "Loaded Model from disk\n",
            "Neg9.png\n"
          ],
          "name": "stdout"
        },
        {
          "output_type": "display_data",
          "data": {
            "image/png": "[encoded data removed]",
            "text/plain": [
              "<PIL.Image.Image image mode=RGB size=48x48 at 0x7FF01C586210>"
            ]
          },
          "metadata": {
            "tags": []
          }
        },
        {
          "output_type": "stream",
          "text": [
            "Neg10.png\n"
          ],
          "name": "stdout"
        },
        {
          "output_type": "display_data",
          "data": {
            "image/png": "[encoded data removed]",
            "text/plain": [
              "<PIL.Image.Image image mode=RGB size=48x48 at 0x7FF01C586BD0>"
            ]
          },
          "metadata": {
            "tags": []
          }
        },
        {
          "output_type": "stream",
          "text": [
            "Neg11.png\n"
          ],
          "name": "stdout"
        },
        {
          "output_type": "display_data",
          "data": {
            "image/png": "[encoded data removed]",
            "text/plain": [
              "<PIL.Image.Image image mode=RGB size=48x48 at 0x7FF01C586ED0>"
            ]
          },
          "metadata": {
            "tags": []
          }
        },
        {
          "output_type": "stream",
          "text": [
            "Neg13.png\n"
          ],
          "name": "stdout"
        },
        {
          "output_type": "display_data",
          "data": {
            "image/png": "[encoded data removed]",
            "text/plain": [
              "<PIL.Image.Image image mode=RGB size=48x48 at 0x7FF01C586A50>"
            ]
          },
          "metadata": {
            "tags": []
          }
        },
        {
          "output_type": "stream",
          "text": [
            "Pos15.png\n"
          ],
          "name": "stdout"
        },
        {
          "output_type": "display_data",
          "data": {
            "image/png": "[encoded data removed]",
            "text/plain": [
              "<PIL.Image.Image image mode=RGB size=50x50 at 0x7FF01C586810>"
            ]
          },
          "metadata": {
            "tags": []
          }
        },
        {
          "output_type": "stream",
          "text": [
            "Neg7.png\n"
          ],
          "name": "stdout"
        },
        {
          "output_type": "display_data",
          "data": {
            "image/png": "[encoded data removed]",
            "text/plain": [
              "<PIL.Image.Image image mode=RGB size=48x48 at 0x7FF01C586DD0>"
            ]
          },
          "metadata": {
            "tags": []
          }
        },
        {
          "output_type": "stream",
          "text": [
            "Neg12.png\n"
          ],
          "name": "stdout"
        },
        {
          "output_type": "display_data",
          "data": {
            "image/png": "[encoded data removed]",
            "text/plain": [
              "<PIL.Image.Image image mode=RGB size=48x48 at 0x7FF01C586850>"
            ]
          },
          "metadata": {
            "tags": []
          }
        },
        {
          "output_type": "stream",
          "text": [
            "Neg8.png\n"
          ],
          "name": "stdout"
        },
        {
          "output_type": "display_data",
          "data": {
            "image/png": "[encoded data removed]",
            "text/plain": [
              "<PIL.Image.Image image mode=RGB size=48x48 at 0x7FF01C586AD0>"
            ]
          },
          "metadata": {
            "tags": []
          }
        },
        {
          "output_type": "stream",
          "text": [
            "Pos13.png\n"
          ],
          "name": "stdout"
        },
        {
          "output_type": "display_data",
          "data": {
            "image/png": "[encoded data removed]",
            "text/plain": [
              "<PIL.Image.Image image mode=RGB size=50x50 at 0x7FF01C5867D0>"
            ]
          },
          "metadata": {
            "tags": []
          }
        },
        {
          "output_type": "stream",
          "text": [
            "Pos14.png\n"
          ],
          "name": "stdout"
        },
        {
          "output_type": "display_data",
          "data": {
            "image/png": "[encoded data removed]",
            "text/plain": [
              "<PIL.Image.Image image mode=RGB size=50x50 at 0x7FF01C586F50>"
            ]
          },
          "metadata": {
            "tags": []
          }
        },
        {
          "output_type": "stream",
          "text": [
            "Pos16.png\n"
          ],
          "name": "stdout"
        },
        {
          "output_type": "display_data",
          "data": {
            "image/png": "[encoded data removed]",
            "text/plain": [
              "<PIL.Image.Image image mode=RGB size=50x50 at 0x7FF01C586E90>"
            ]
          },
          "metadata": {
            "tags": []
          }
        },
        {
          "output_type": "stream",
          "text": [
            "Pos10.png\n"
          ],
          "name": "stdout"
        },
        {
          "output_type": "display_data",
          "data": {
            "image/png": "[encoded data removed]",
            "text/plain": [
              "<PIL.Image.Image image mode=RGB size=50x50 at 0x7FF01C586A50>"
            ]
          },
          "metadata": {
            "tags": []
          }
        },
        {
          "output_type": "stream",
          "text": [
            "Pos7.png\n"
          ],
          "name": "stdout"
        },
        {
          "output_type": "display_data",
          "data": {
            "image/png": "[encoded data removed]",
            "text/plain": [
              "<PIL.Image.Image image mode=RGB size=50x50 at 0x7FF01C586F90>"
            ]
          },
          "metadata": {
            "tags": []
          }
        },
        {
          "output_type": "stream",
          "text": [
            "Pos12.png\n"
          ],
          "name": "stdout"
        },
        {
          "output_type": "display_data",
          "data": {
            "image/png": "[encoded data removed]",
            "text/plain": [
              "<PIL.Image.Image image mode=RGB size=50x50 at 0x7FF01C586C90>"
            ]
          },
          "metadata": {
            "tags": []
          }
        },
        {
          "output_type": "stream",
          "text": [
            "Pos9.png\n"
          ],
          "name": "stdout"
        },
        {
          "output_type": "display_data",
          "data": {
            "image/png": "[encoded data removed]",
            "text/plain": [
              "<PIL.Image.Image image mode=RGB size=50x50 at 0x7FF01C58A590>"
            ]
          },
          "metadata": {
            "tags": []
          }
        },
        {
          "output_type": "stream",
          "text": [
            "Pos11.png\n"
          ],
          "name": "stdout"
        },
        {
          "output_type": "display_data",
          "data": {
            "image/png": "[encoded data removed]",
            "text/plain": [
              "<PIL.Image.Image image mode=RGB size=50x50 at 0x7FF01C586D10>"
            ]
          },
          "metadata": {
            "tags": []
          }
        },
        {
          "output_type": "stream",
          "text": [
            "Pos6.png\n"
          ],
          "name": "stdout"
        },
        {
          "output_type": "display_data",
          "data": {
            "image/png": "[encoded data removed]",
            "text/plain": [
              "<PIL.Image.Image image mode=RGB size=50x50 at 0x7FF01C5867D0>"
            ]
          },
          "metadata": {
            "tags": []
          }
        },
        {
          "output_type": "stream",
          "text": [
            "Pos5.png\n"
          ],
          "name": "stdout"
        },
        {
          "output_type": "display_data",
          "data": {
            "image/png": "[encoded data removed]",
            "text/plain": [
              "<PIL.Image.Image image mode=RGB size=50x50 at 0x7FF01C586C90>"
            ]
          },
          "metadata": {
            "tags": []
          }
        },
        {
          "output_type": "stream",
          "text": [
            "Pos8.png\n"
          ],
          "name": "stdout"
        },
        {
          "output_type": "display_data",
          "data": {
            "image/png": "[encoded data removed]",
            "text/plain": [
              "<PIL.Image.Image image mode=RGB size=50x50 at 0x7FF01C58AE90>"
            ]
          },
          "metadata": {
            "tags": []
          }
        },
        {
          "output_type": "stream",
          "text": [
            "Neg14.png\n"
          ],
          "name": "stdout"
        },
        {
          "output_type": "display_data",
          "data": {
            "image/png": "[encoded data removed]",
            "text/plain": [
              "<PIL.Image.Image image mode=RGB size=48x48 at 0x7FF01C58AB10>"
            ]
          },
          "metadata": {
            "tags": []
          }
        },
        {
          "output_type": "stream",
          "text": [
            " True Classes are :  Neg9.png\n",
            " True Classes are :  Neg10.png\n",
            " True Classes are :  Neg11.png\n",
            " True Classes are :  Neg13.png\n",
            " True Classes are :  Pos15.png\n",
            " True Classes are :  Neg7.png\n",
            " True Classes are :  Neg12.png\n",
            " True Classes are :  Neg8.png\n",
            " True Classes are :  Pos13.png\n",
            " True Classes are :  Pos14.png\n",
            " True Classes are :  Pos16.png\n",
            " True Classes are :  Pos10.png\n",
            " True Classes are :  Pos7.png\n",
            " True Classes are :  Pos12.png\n",
            " True Classes are :  Pos9.png\n",
            " True Classes are :  Pos11.png\n",
            " True Classes are :  Pos6.png\n",
            " True Classes are :  Pos5.png\n",
            " True Classes are :  Pos8.png\n",
            " True Classes are :  Neg14.png\n",
            "predicted class :  [0]\n",
            "-----------------------------------------------\n",
            "-----------------------------------------------\n",
            "neg preditcion %\n",
            "0.9925333\n",
            "pos preditcion %\n",
            "0.0074666133\n",
            "{\n",
            "The image is neg\n",
            "}\n",
            "-----------------------------------------------\n",
            "-----------------------------------------------\n",
            "[[0.99 0.01]]\n",
            "-----------------------------------------------\n",
            "-----------------------------------------------\n",
            "predicted class :  [0]\n",
            "-----------------------------------------------\n",
            "-----------------------------------------------\n",
            "neg preditcion %\n",
            "1.0\n",
            "pos preditcion %\n",
            "0.0\n",
            "{\n",
            "The image is neg\n",
            "}\n",
            "-----------------------------------------------\n",
            "-----------------------------------------------\n",
            "[[1. 0.]]\n",
            "-----------------------------------------------\n",
            "-----------------------------------------------\n",
            "predicted class :  [0]\n",
            "-----------------------------------------------\n",
            "-----------------------------------------------\n",
            "neg preditcion %\n",
            "1.0\n",
            "pos preditcion %\n",
            "0.0\n",
            "{\n",
            "The image is neg\n",
            "}\n",
            "-----------------------------------------------\n",
            "-----------------------------------------------\n",
            "[[1. 0.]]\n",
            "-----------------------------------------------\n",
            "-----------------------------------------------\n",
            "predicted class :  [0]\n",
            "-----------------------------------------------\n",
            "-----------------------------------------------\n",
            "neg preditcion %\n",
            "1.0\n",
            "pos preditcion %\n",
            "0.0\n",
            "{\n",
            "The image is neg\n",
            "}\n",
            "-----------------------------------------------\n",
            "-----------------------------------------------\n",
            "[[1. 0.]]\n",
            "-----------------------------------------------\n",
            "-----------------------------------------------\n",
            "predicted class :  [0]\n",
            "-----------------------------------------------\n",
            "-----------------------------------------------\n",
            "neg preditcion %\n",
            "0.5006978\n",
            "pos preditcion %\n",
            "0.4993022\n",
            "{\n",
            "The image is neg\n",
            "}\n",
            "-----------------------------------------------\n",
            "-----------------------------------------------\n",
            "[[0.5 0.5]]\n",
            "-----------------------------------------------\n",
            "-----------------------------------------------\n",
            "predicted class :  [0]\n",
            "-----------------------------------------------\n",
            "-----------------------------------------------\n",
            "neg preditcion %\n",
            "1.0\n",
            "pos preditcion %\n",
            "0.0\n",
            "{\n",
            "The image is neg\n",
            "}\n",
            "-----------------------------------------------\n",
            "-----------------------------------------------\n",
            "[[1. 0.]]\n",
            "-----------------------------------------------\n",
            "-----------------------------------------------\n",
            "predicted class :  "
          ],
          "name": "stdout"
        },
        {
          "output_type": "stream",
          "text": [
            "/usr/local/lib/python3.7/dist-packages/tensorflow/python/keras/engine/training.py:2325: UserWarning: `Model.state_updates` will be removed in a future version. This property should not be used in TensorFlow 2.0, as `updates` are applied automatically.\n",
            "  warnings.warn('`Model.state_updates` will be removed in a future version. '\n"
          ],
          "name": "stderr"
        },
        {
          "output_type": "stream",
          "text": [
            "[0]\n",
            "-----------------------------------------------\n",
            "-----------------------------------------------\n",
            "neg preditcion %\n",
            "1.0\n",
            "pos preditcion %\n",
            "0.0\n",
            "{\n",
            "The image is neg\n",
            "}\n",
            "-----------------------------------------------\n",
            "-----------------------------------------------\n",
            "[[1. 0.]]\n",
            "-----------------------------------------------\n",
            "-----------------------------------------------\n",
            "predicted class :  [0]\n",
            "-----------------------------------------------\n",
            "-----------------------------------------------\n",
            "neg preditcion %\n",
            "1.0\n",
            "pos preditcion %\n",
            "2.4240952e-18\n",
            "{\n",
            "The image is neg\n",
            "}\n",
            "-----------------------------------------------\n",
            "-----------------------------------------------\n",
            "[[1.00e+00 2.42e-18]]\n",
            "-----------------------------------------------\n",
            "-----------------------------------------------\n",
            "predicted class :  [0]\n",
            "-----------------------------------------------\n",
            "-----------------------------------------------\n",
            "neg preditcion %\n",
            "0.9577671\n",
            "pos preditcion %\n",
            "0.042232912\n",
            "{\n",
            "The image is neg\n",
            "}\n",
            "-----------------------------------------------\n",
            "-----------------------------------------------\n",
            "[[0.96 0.04]]\n",
            "-----------------------------------------------\n",
            "-----------------------------------------------\n",
            "predicted class :  [0]\n",
            "-----------------------------------------------\n",
            "-----------------------------------------------\n",
            "neg preditcion %\n",
            "1.0\n",
            "pos preditcion %\n",
            "8.511885e-09\n",
            "{\n",
            "The image is neg\n",
            "}\n",
            "-----------------------------------------------\n",
            "-----------------------------------------------\n",
            "[[1.00e+00 8.51e-09]]\n",
            "-----------------------------------------------\n",
            "-----------------------------------------------\n",
            "predicted class :  [0]\n",
            "-----------------------------------------------\n",
            "-----------------------------------------------\n",
            "neg preditcion %\n",
            "1.0\n",
            "pos preditcion %\n",
            "0.0\n",
            "{\n",
            "The image is neg\n",
            "}\n",
            "-----------------------------------------------\n",
            "-----------------------------------------------\n",
            "[[1. 0.]]\n",
            "-----------------------------------------------\n",
            "-----------------------------------------------\n",
            "predicted class :  [0]\n",
            "-----------------------------------------------\n",
            "-----------------------------------------------\n",
            "neg preditcion %\n",
            "1.0\n",
            "pos preditcion %\n",
            "0.0\n",
            "{\n",
            "The image is neg\n",
            "}\n",
            "-----------------------------------------------\n",
            "-----------------------------------------------\n",
            "[[1. 0.]]\n",
            "-----------------------------------------------\n",
            "-----------------------------------------------\n",
            "predicted class :  [0]\n",
            "-----------------------------------------------\n",
            "-----------------------------------------------\n",
            "neg preditcion %\n",
            "1.0\n",
            "pos preditcion %\n",
            "0.0\n",
            "{\n",
            "The image is neg\n",
            "}\n",
            "-----------------------------------------------\n",
            "-----------------------------------------------\n",
            "[[1. 0.]]\n",
            "-----------------------------------------------\n",
            "-----------------------------------------------\n",
            "predicted class :  [0]\n",
            "-----------------------------------------------\n",
            "-----------------------------------------------\n",
            "neg preditcion %\n",
            "1.0\n",
            "pos preditcion %\n",
            "1.975835e-32\n",
            "{\n",
            "The image is neg\n",
            "}\n",
            "-----------------------------------------------\n",
            "-----------------------------------------------\n",
            "[[1.00e+00 1.98e-32]]\n",
            "-----------------------------------------------\n",
            "-----------------------------------------------\n",
            "predicted class :  [0]\n",
            "-----------------------------------------------\n",
            "-----------------------------------------------\n",
            "neg preditcion %\n",
            "1.0\n",
            "pos preditcion %\n",
            "4.5280044e-36\n",
            "{\n",
            "The image is neg\n",
            "}\n",
            "-----------------------------------------------\n",
            "-----------------------------------------------\n",
            "[[1.00e+00 4.53e-36]]\n",
            "-----------------------------------------------\n",
            "-----------------------------------------------\n",
            "predicted class :  [0]\n",
            "-----------------------------------------------\n",
            "-----------------------------------------------\n",
            "neg preditcion %\n",
            "0.5724947\n",
            "pos preditcion %\n",
            "0.42750534\n",
            "{\n",
            "The image is neg\n",
            "}\n",
            "-----------------------------------------------\n",
            "-----------------------------------------------\n",
            "[[0.57 0.43]]\n",
            "-----------------------------------------------\n",
            "-----------------------------------------------\n",
            "predicted class :  [0]\n",
            "-----------------------------------------------\n",
            "-----------------------------------------------\n",
            "neg preditcion %\n",
            "0.88524246\n",
            "pos preditcion %\n",
            "0.114757515\n",
            "{\n",
            "The image is neg\n",
            "}\n",
            "-----------------------------------------------\n",
            "-----------------------------------------------\n",
            "[[0.89 0.11]]\n",
            "-----------------------------------------------\n",
            "-----------------------------------------------\n",
            "predicted class :  [0]\n",
            "-----------------------------------------------\n",
            "-----------------------------------------------\n",
            "neg preditcion %\n",
            "1.0\n",
            "pos preditcion %\n",
            "7.1405246e-22\n",
            "{\n",
            "The image is neg\n",
            "}\n",
            "-----------------------------------------------\n",
            "-----------------------------------------------\n",
            "[[1.00e+00 7.14e-22]]\n",
            "-----------------------------------------------\n",
            "-----------------------------------------------\n",
            "predicted class :  [0]\n",
            "-----------------------------------------------\n",
            "-----------------------------------------------\n",
            "neg preditcion %\n",
            "1.0\n",
            "pos preditcion %\n",
            "2.5996822e-26\n",
            "{\n",
            "The image is neg\n",
            "}\n",
            "-----------------------------------------------\n",
            "-----------------------------------------------\n",
            "[[1.0e+00 2.6e-26]]\n",
            "-----------------------------------------------\n",
            "-----------------------------------------------\n",
            "predicted class :  [0]\n",
            "-----------------------------------------------\n",
            "-----------------------------------------------\n",
            "neg preditcion %\n",
            "1.0\n",
            "pos preditcion %\n",
            "0.0\n",
            "{\n",
            "The image is neg\n",
            "}\n",
            "-----------------------------------------------\n",
            "-----------------------------------------------\n",
            "[[1. 0.]]\n",
            "-----------------------------------------------\n",
            "-----------------------------------------------\n",
            "Done\n"
          ],
          "name": "stdout"
        }
      ]
    },
    {
      "cell_type": "code",
      "metadata": {
        "id": "_nheQeHj_d9c",
        "colab": {
          "base_uri": "https://localhost:8080/",
          "height": 231
        },
        "outputId": "4b8e3628-a5e6-43ec-a2d9-2ca5a964b310"
      },
      "source": [
        "\n",
        "\n",
        "'''\n",
        "\n",
        "#https://scikit-learn.org/stable/auto_examples/model_selection/\n",
        "#plot_confusion_matrix.html#sphx-glr-auto-examples-model-selection-plot-confusion-matrix-py\n",
        "def plot_confusion_matrix(cm, classes,\n",
        "                          normalize=False,\n",
        "                          title='Confusion matrix',\n",
        "                          cmap=plt.cm.Blues):\n",
        "    \"\"\"\n",
        "    This function prints and plots the confusion matrix.\n",
        "    Normalization can be applied by setting `normalize=True`.\n",
        "    \"\"\"\n",
        "    if normalize:\n",
        "        cm = cm.astype('float') / cm.sum(axis=1)[:, np.newaxis]\n",
        "        print(\"Normalized confusion matrix\")\n",
        "    else:\n",
        "        print('Confusion matrix, without normalization')\n",
        "\n",
        "    print(cm)\n",
        "\n",
        "    plt.imshow(cm, interpolation='nearest', cmap=cmap)\n",
        "    plt.title(title)\n",
        "    plt.colorbar()\n",
        "    tick_marks = np.arange(len(classes))\n",
        "    plt.xticks(tick_marks, classes, rotation=45)\n",
        "    plt.yticks(tick_marks, classes)\n",
        "\n",
        "    fmt = '.2f' if normalize else 'd'\n",
        "    thresh = cm.max() / 2.\n",
        "    for i, j in itertools.product(range(cm.shape[0]), range(cm.shape[1])):\n",
        "        plt.text(j, i, format(cm[i, j], fmt),\n",
        "                 horizontalalignment=\"center\",\n",
        "                 color=\"white\" if cm[i, j] > thresh else \"black\")\n",
        "\n",
        "    plt.ylabel('True label')\n",
        "    plt.xlabel('Predicted label')\n",
        "    plt.tight_layout()\n",
        "\n",
        "model = vgg16_model(inputs=vgg16_model.input, outputs= vgg16_model(vgg16_model.output))\n",
        "#model = Model(input= base_model.input, output= model(base_model.output))\n",
        "Y_pred = model.predict_generator(valid_generator)\n",
        "y_pred = np.argmax(Y_pred, axis=1)\n",
        "\n",
        "#Compute confusion matrix\n",
        "cnf_matrix = confusion_matrix(valid_generator.classes, y_pred)\n",
        "np.set_printoptions(precision=2)\n",
        "plt.figure()\n",
        "plot_confusion_matrix(cnf_matrix, classes=target_names,\n",
        "                      title='Confusion matrix, without normalization')\n",
        "\n",
        "# Plot normalized confusion matrix\n",
        "plt.figure()\n",
        "plot_confusion_matrix(cnf_matrix, classes=target_names, normalize=True,\n",
        "                      title='Normalized confusion matrix')\n",
        "\n",
        "plt.show()\n",
        "\n",
        "'''\n",
        "\n",
        "\n",
        "\"\"\"\n",
        "from sklearn.metrics import classification_report\n",
        "print(classification_report(y_true, y_pred, target_names=target_names))\n",
        "\"\"\"\n",
        "\n",
        "\n",
        "'''\n",
        "M2= tf.math.confusion_matrix(\n",
        "     labels,out2[0], num_classes=2, weights=None, dtype=tf.dtypes.float32\n",
        ")\n",
        "\n",
        "print(M2)\n",
        "\n",
        "print ('-------------------------------------')\n",
        "'''\n",
        "\n",
        "'''\n",
        "EXAMPLE: \n",
        "\n",
        "test_loss, test_acc = _model.evaluate(test_images, test_labels)\n",
        "\n",
        "    print('\\nTest accuracy:', test_acc)\n",
        "    print('\\nTest loss:', test_loss)\n",
        "\n",
        "    pred = _model.predict(test_images)\n",
        "    print(pred)\n",
        "    max_predictions = tf.argmax(pred, axis=1)\n",
        "    print(max_predictions)\n",
        "    print(tf.math.confusion_matrix(labels=test_labels, predictions=max_predictions))\n",
        "\n",
        "    print('Sum Test: ', sum(sum(pred)))\n",
        "\n",
        "'''\n",
        "\n",
        "from keras import backend as K\n",
        "if K.image_data_format() == 'channels_first':\n",
        " input_shape = (3, 48, 48)\n",
        "else:\n",
        " input_shape = (48, 48, 3)\n",
        "\n",
        "labels = [0,1]\n",
        "\n",
        "for i in pred_images:\n",
        "  \n",
        "  \n",
        "  out1 = vgg16_model.predict(i, batch_size=batch_size, verbose=1, steps=1, callbacks=callbacks_list)\n",
        "  arg = np.argmax(out1)\n",
        "  print(\"predicted class : \",arg)\n",
        " \n",
        "  print('-----------------------------------------------') \n",
        "  print('-----------------------------------------------') \n",
        "\n",
        "  print('CR preditcion %')\n",
        "  print(out1[0][0])\n",
        "  print('V preditcion %')\n",
        "  print(out1[0][1])\n",
        "  print('VJ preditcion %')\n",
        "  print(out1[0][2])\n",
        "\n",
        "  if out1[0][0] > out1[0][1] and out1[0][0] > out1[0][2]:\n",
        "      print(\"{\")\n",
        "      print(\"The image is CR\")\n",
        "      print(\"}\")\n",
        "  if out1[0][1] > out1[0][0] and out1[0][1] > out1[0][2]:\n",
        "      print(\"{\")\n",
        "      print('The image is V')\n",
        "      print(\"}\")\n",
        "  if out1[0][2] > out1[0][0] and out1[0][2] > out1[0][1]:\n",
        "      print(\"{\")\n",
        "      print('The image is VJ')\n",
        "      print(\"}\")\n",
        "  print('-----------------------------------------------') \n",
        "  print('-----------------------------------------------') \n",
        "\n",
        "  print(out1)\n",
        "\n",
        "  print('-----------------------------------------------') \n",
        "  print('-----------------------------------------------') \n",
        "\n",
        "  print(\"Confusion matrix : \")\n",
        "  M1= tf.math.confusion_matrix(\n",
        "      labels,out1[0], num_classes=2, weights=None, dtype=tf.dtypes.float32\n",
        "  )\n",
        "  print(M1)\n",
        "  print('***********************************************')"
      ],
      "execution_count": 23,
      "outputs": [
        {
          "output_type": "error",
          "ename": "NameError",
          "evalue": "ignored",
          "traceback": [
            "\u001b[0;31m---------------------------------------------------------------------------\u001b[0m",
            "\u001b[0;31mNameError\u001b[0m                                 Traceback (most recent call last)",
            "\u001b[0;32m<ipython-input-23-cf5021363469>\u001b[0m in \u001b[0;36m<module>\u001b[0;34m()\u001b[0m\n\u001b[1;32m    103\u001b[0m \u001b[0mlabels\u001b[0m \u001b[0;34m=\u001b[0m \u001b[0;34m[\u001b[0m\u001b[0;36m0\u001b[0m\u001b[0;34m,\u001b[0m\u001b[0;36m1\u001b[0m\u001b[0;34m]\u001b[0m\u001b[0;34m\u001b[0m\u001b[0;34m\u001b[0m\u001b[0m\n\u001b[1;32m    104\u001b[0m \u001b[0;34m\u001b[0m\u001b[0m\n\u001b[0;32m--> 105\u001b[0;31m \u001b[0;32mfor\u001b[0m \u001b[0mi\u001b[0m \u001b[0;32min\u001b[0m \u001b[0mpred_images\u001b[0m\u001b[0;34m:\u001b[0m\u001b[0;34m\u001b[0m\u001b[0;34m\u001b[0m\u001b[0m\n\u001b[0m\u001b[1;32m    106\u001b[0m \u001b[0;34m\u001b[0m\u001b[0m\n\u001b[1;32m    107\u001b[0m \u001b[0;34m\u001b[0m\u001b[0m\n",
            "\u001b[0;31mNameError\u001b[0m: name 'pred_images' is not defined"
          ]
        }
      ]
    },
    {
      "cell_type": "markdown",
      "metadata": {
        "id": "gH8TXXfO-1Qz"
      },
      "source": [
        "# **Customized model other than sequential**\n",
        "\n"
      ]
    },
    {
      "cell_type": "code",
      "metadata": {
        "id": "Ztaex40v-10V"
      },
      "source": [
        "'''\n",
        "inputs = tf.keras.Input(shape=(50,50,3))\n",
        "x = tf.keras.layers.Dense(4, activation=tf.nn.relu)(inputs)\n",
        "outputs = tf.keras.layers.Dense(2, activation=\"softmax\")(x)\n",
        "model = tf.keras.Model(inputs=inputs, outputs=outputs)\n",
        "\n",
        "class MyModel(tf.keras.Model):\n",
        "\n",
        "  def __init__(self):\n",
        "    super(MyModel, self).__init__()\n",
        "    self.dense1 = tf.keras.layers.Dense(1, activation=tf.nn.relu)\n",
        "    self.dense2 = tf.keras.layers.Dense(2, activation=tf.nn.softmax)\n",
        "    self.dropout = tf.keras.layers.Dropout(0.5)\n",
        "\n",
        "  def build(self, input_shape):  # Create the state of the layer (weights)\n",
        "    w_init = tf.random_normal_initializer()\n",
        "    self.w = tf.Variable(\n",
        "        initial_value=w_init(shape=(input_shape[-1], self.units),\n",
        "                             dtype='float32'),\n",
        "        trainable=True)\n",
        "    b_init = tf.zeros_initializer()\n",
        "    self.b = tf.Variable(\n",
        "        initial_value=b_init(shape=(self.units,), dtype='float32'),\n",
        "        trainable=True)\n",
        "\n",
        "  def call(self, inputs, training=False):\n",
        "    x = self.dense1(inputs)\n",
        "    if training:\n",
        "      x = self.dropout(x, training=training)\n",
        "    return self.dense2(x)\n",
        "\n",
        "'''"
      ],
      "execution_count": null,
      "outputs": []
    },
    {
      "cell_type": "markdown",
      "metadata": {
        "id": "5Scdv4KTxEOW"
      },
      "source": [
        "# Visualising Training Progress"
      ]
    },
    {
      "cell_type": "code",
      "metadata": {
        "id": "ez4BN_OrxEOX"
      },
      "source": [
        "#plotting training values\n",
        "\n",
        "#hist=vgg16_model\n",
        "\n",
        "import matplotlib.pyplot as plt\n",
        "plt.plot(hist.history[\"accuracy\"])\n",
        "plt.plot(hist.history['val_accuracy'])\n",
        "plt.plot(hist.history['loss'])\n",
        "plt.plot(hist.history['val_loss'])\n",
        "plt.title(\"model accuracy\")\n",
        "plt.ylabel(\"Accuracy\")\n",
        "plt.xlabel(\"Epoch\")\n",
        "plt.legend([\"Accuracy\",\"Validation Accuracy\",\"loss\",\"Validation Loss\"])\n",
        "plt.show()\n",
        "\n",
        "\n",
        " #plot 2 graphs check code\n",
        "\n",
        "acc = hist.history['accuracy']\n",
        "val_acc = hist.history['val_accuracy']\n",
        "loss = hist.history['loss']\n",
        "val_loss1 = hist.history['val_loss']\n",
        "epochs = range(1, len(loss) + 1)\n",
        "\n",
        "#accuracy plot\n",
        "plt.plot(epochs, acc, color='green', label='Training Accuracy')\n",
        "plt.plot(epochs, val_acc, color='blue', label='Validation Accuracy')\n",
        "plt.title('Training and Validation Accuracy')\n",
        "plt.ylabel('Accuracy')\n",
        "plt.xlabel('Epoch')\n",
        "plt.legend()\n",
        "\n",
        "plt.figure()\n",
        "#loss plot\n",
        "plt.plot(epochs, loss, color='pink', label='Training Loss')\n",
        "plt.plot(epochs, val_loss1, color='red', label='Validation Loss')\n",
        "plt.title('Training and Validation Loss')\n",
        "plt.xlabel('Epoch')\n",
        "plt.ylabel('Loss')\n",
        "plt.legend()"
      ],
      "execution_count": null,
      "outputs": []
    },
    {
      "cell_type": "markdown",
      "metadata": {
        "id": "FD9AoxL4K42t"
      },
      "source": [
        "# ***Performance of the Model***"
      ]
    },
    {
      "cell_type": "code",
      "metadata": {
        "id": "uEgbYCP6xEOc"
      },
      "source": [
        "accuracy = np.array(acc)\n",
        "print('Training accuracy of fine-tuned vgg16  model is     :   '  , accuracy[-1]*100,'%' )\n",
        "val_accuracy = np.array(val_acc)\n",
        "print('Validation  accuracy of fine-tuned vgg16  model is  :   ' , val_accuracy[-1]*100,'%')\n",
        "\n",
        "t_loss = np.array(loss)\n",
        "print('training   loss of fine-tuned vgg16  model   is     :   ' , t_loss[-1]*100,'%')\n",
        "val_loss = np.array(val_loss1)\n",
        "print('Validation  loss of fine-tuned vgg16  model  is     :   ' , val_loss[-1]*100,'%')\n"
      ],
      "execution_count": null,
      "outputs": []
    },
    {
      "cell_type": "markdown",
      "metadata": {
        "id": "330hFwJHxEOh"
      },
      "source": [
        "#  Training  Accuracy\n",
        "# and \n",
        "# Validation accuracy\n",
        "\n"
      ]
    },
    {
      "cell_type": "code",
      "metadata": {
        "id": "0a94wyA2YW5p"
      },
      "source": [
        "accuracy = np.array(acc)\n",
        "print(' Training Accuracy of model is      :   '  , accuracy[-1]*100,'%' )\n",
        "\n",
        "val_accuracy = np.array(val_acc)\n",
        "print(' \\n \\n Validation  Accuracy of model is      :   '  , val_accuracy[-1]*100,'%' )"
      ],
      "execution_count": null,
      "outputs": []
    },
    {
      "cell_type": "markdown",
      "metadata": {
        "id": "r2Tm2EjdN8cL"
      },
      "source": [
        "# test set"
      ]
    },
    {
      "cell_type": "code",
      "metadata": {
        "id": "G1UXBjDKMQ0x"
      },
      "source": [
        "# plots images with labels within jupyter notebook\n",
        "def plots(ims, figsize=(48,48), rows=5, interp=False, titles=None):\n",
        "    if type(ims[0]) is np.ndarray:\n",
        "        ims = np.array(ims).astype(np.uint8)\n",
        "        if (ims.shape[-1] != 3):\n",
        "            ims = ims.transpose((0,2,3,1))\n",
        "    f = plt.figure(figsize=figsize)\n",
        "    cols = len(ims)//rows if len(ims) % 2 == 0 else len(ims)//rows + 1\n",
        "    for i in range(len(ims)):\n",
        "        sp = f.add_subplot(rows, cols, i+1)\n",
        "        sp.axis('Off')\n",
        "        if titles is not None:\n",
        "            sp.set_title(titles[i], fontsize=20)\n",
        "        plt.imshow(ims[i], interpolation=None if interp else 'none')\n",
        "print('checked')"
      ],
      "execution_count": null,
      "outputs": []
    },
    {
      "cell_type": "code",
      "metadata": {
        "id": "-ubTM-IZOcr1"
      },
      "source": [
        "imgs,test_labels = next(test_batches)\n",
        "print('checked')"
      ],
      "execution_count": null,
      "outputs": []
    },
    {
      "cell_type": "code",
      "metadata": {
        "id": "oCqbnyJzOc7i"
      },
      "source": [
        "# this is actually encording\n",
        "plots(imgs,rows=1,titles = test_labels)\n",
        "print('checked')\n"
      ],
      "execution_count": null,
      "outputs": []
    },
    {
      "cell_type": "code",
      "metadata": {
        "id": "VIfQ6HZkXyw_"
      },
      "source": [
        "test_labels = test_labels[0:37]\n",
        "test_labels\n",
        "# print(imgs, result[:,0])"
      ],
      "execution_count": null,
      "outputs": []
    },
    {
      "cell_type": "markdown",
      "metadata": {
        "id": "kbyREw3gRV0e"
      },
      "source": [
        "# Prediction"
      ]
    },
    {
      "cell_type": "code",
      "metadata": {
        "id": "xCmwoyscQTzT"
      },
      "source": [
        "predictions = vgg16_model.predict_generator(train_batches,steps=25,verbose=1)"
      ],
      "execution_count": null,
      "outputs": []
    },
    {
      "cell_type": "code",
      "metadata": {
        "id": "MnIiLIyrQUGb"
      },
      "source": [
        "predictions"
      ],
      "execution_count": null,
      "outputs": []
    },
    {
      "cell_type": "code",
      "metadata": {
        "id": "6woGo1TISCHo"
      },
      "source": [
        "import seaborn as sns\n",
        "import sklearn.metrics as metrics\n",
        "\n",
        "report = metrics.classification_report(true_classes, predicted_classes, target_names=class_labels)\n",
        "print(report)"
      ],
      "execution_count": null,
      "outputs": []
    },
    {
      "cell_type": "markdown",
      "metadata": {
        "id": "wvtDF0v3SNu4"
      },
      "source": [
        "# ** code of confusion matrix**"
      ]
    },
    {
      "cell_type": "code",
      "metadata": {
        "id": "GE35txUgaiM4"
      },
      "source": [
        ""
      ],
      "execution_count": null,
      "outputs": []
    },
    {
      "cell_type": "code",
      "metadata": {
        "id": "EpxjV52FUlgf"
      },
      "source": [
        "cm = confusion_matrix(test_labels,predictions[:,0])"
      ],
      "execution_count": null,
      "outputs": []
    },
    {
      "cell_type": "code",
      "metadata": {
        "id": "ogynvBcySCTN"
      },
      "source": [
        "\n",
        "\n",
        "\n",
        "def plot_confusion_matrix(cm, classes,\n",
        "                          normalize=False,\n",
        "                          title='Confusion matrix',\n",
        "                          cmap=plt.cm.Blues):\n",
        "    \"\"\"\n",
        "    This function prints and plots the confusion matrix.\n",
        "    Normalization can be applied by setting `normalize=True`.\n",
        "    \"\"\"\n",
        "    plt.imshow(cm, interpolation='nearest', cmap=cmap)\n",
        "    plt.title(title)\n",
        "    plt.colorbar()\n",
        "    tick_marks = np.arange(len(classes))\n",
        "    plt.xticks(tick_marks, classes, rotation=45)\n",
        "    plt.yticks(tick_marks, classes)\n",
        "\n",
        "    if normalize:\n",
        "        cm = cm.astype('float') / cm.sum(axis=1)[:, np.newaxis]\n",
        "        print(\"Normalized confusion matrix\")\n",
        "    else:\n",
        "        print('Confusion matrix, without normalization')\n",
        "  \n",
        "    print(cm)\n",
        "\n",
        "    thresh = cm.max() / 2.\n",
        "    for i, j in itertools.product(range(cm.shape[0]), range(cm.shape[1])):\n",
        "        plt.text(j, i, cm[i, j],\n",
        "                 horizontalalignment=\"center\",\n",
        "                 color=\"white\" if cm[i, j] > thresh else \"black\")\n",
        "\n",
        "    plt.tight_layout()\n",
        "    plt.ylabel('True label')\n",
        "    plt.xlabel('Predicted label')"
      ],
      "execution_count": null,
      "outputs": []
    },
    {
      "cell_type": "markdown",
      "metadata": {
        "id": "em-IXbSGSxDR"
      },
      "source": [
        "# *** confusion of test data***"
      ]
    },
    {
      "cell_type": "code",
      "metadata": {
        "id": "y7jsz31xZhnA"
      },
      "source": [
        ""
      ],
      "execution_count": null,
      "outputs": []
    },
    {
      "cell_type": "code",
      "metadata": {
        "id": "3jAnJ2APZlEm"
      },
      "source": [
        ""
      ],
      "execution_count": null,
      "outputs": []
    },
    {
      "cell_type": "markdown",
      "metadata": {
        "id": "kWMAYr9PZlEq"
      },
      "source": [
        "# test set"
      ]
    },
    {
      "cell_type": "code",
      "metadata": {
        "id": "x9hFDeKxZlEr"
      },
      "source": [
        "# plots images with labels within jupyter notebook\n",
        "def plots(ims, figsize=(20,20), rows=1, interp=False, titles=None):\n",
        "    if type(ims[0]) is np.ndarray:\n",
        "        ims = np.array(ims).astype(np.uint8)\n",
        "        if (ims.shape[-1] != 3):\n",
        "            ims = ims.transpose((0,2,3,1))\n",
        "    f = plt.figure(figsize=figsize)\n",
        "    cols = len(ims)//rows if len(ims) % 2 == 0 else len(ims)//rows + 1\n",
        "    for i in range(len(ims)):\n",
        "        sp = f.add_subplot(rows, cols, i+1)\n",
        "        sp.axis('Off')\n",
        "        if titles is not None:\n",
        "            sp.set_title(titles[i], fontsize=20)\n",
        "        plt.imshow(ims[i], interpolation=None if interp else 'none')\n",
        "print('checked')"
      ],
      "execution_count": null,
      "outputs": []
    },
    {
      "cell_type": "code",
      "metadata": {
        "id": "ULZj3vcNZlEu"
      },
      "source": [
        "imgs,test_labels = next(test_batches)\n",
        "print('checked')"
      ],
      "execution_count": null,
      "outputs": []
    },
    {
      "cell_type": "code",
      "metadata": {
        "id": "tcTvuOOfZlEx"
      },
      "source": [
        "# this is actually encording\n",
        "plots(imgs,titles = test_labels)\n",
        "print('checked')"
      ],
      "execution_count": null,
      "outputs": []
    },
    {
      "cell_type": "code",
      "metadata": {
        "id": "0osVLSFiZlE1"
      },
      "source": [
        "test_labels = test_labels[:,0]\n",
        "test_labels\n",
        "# print(imgs, result[:,0])"
      ],
      "execution_count": null,
      "outputs": []
    },
    {
      "cell_type": "code",
      "metadata": {
        "id": "FG6UBdqjaX4B"
      },
      "source": [
        ""
      ],
      "execution_count": null,
      "outputs": []
    },
    {
      "cell_type": "code",
      "metadata": {
        "id": "dcDmZnFUJKcu"
      },
      "source": [
        "test_batches =  ImageDataGenerator().flow_from_directory(test_path,target_size=(224,224), classes=['black_measles','black_rot','healthy','leaf_blight'], batch_size=20)"
      ],
      "execution_count": null,
      "outputs": []
    },
    {
      "cell_type": "markdown",
      "metadata": {
        "id": "7Ui_691jZlE9"
      },
      "source": [
        "# #Preductions"
      ]
    },
    {
      "cell_type": "code",
      "metadata": {
        "id": "0zpYW-dhZlE-"
      },
      "source": [
        "predictions = vgg16_model.predict_generator(test_batches,steps=1,verbose=0)"
      ],
      "execution_count": null,
      "outputs": []
    },
    {
      "cell_type": "code",
      "metadata": {
        "id": "lUiccX3-ZlFB"
      },
      "source": [
        "predictions"
      ],
      "execution_count": null,
      "outputs": []
    },
    {
      "cell_type": "code",
      "metadata": {
        "id": "-yPerLwOZlFE"
      },
      "source": [
        ""
      ],
      "execution_count": null,
      "outputs": []
    },
    {
      "cell_type": "code",
      "metadata": {
        "id": "E4QYB5C3Iid8"
      },
      "source": [
        ""
      ],
      "execution_count": null,
      "outputs": []
    },
    {
      "cell_type": "markdown",
      "metadata": {
        "id": "gs8lREdtZlFI"
      },
      "source": [
        "# **Calculate and plot confusion matrix:**"
      ]
    },
    {
      "cell_type": "code",
      "metadata": {
        "id": "AoxFLLfFX04H"
      },
      "source": [
        "import itertools"
      ],
      "execution_count": null,
      "outputs": []
    },
    {
      "cell_type": "code",
      "metadata": {
        "id": "lMd7-4ohcnv_"
      },
      "source": [
        "# def plot_confusion_matrix(cm, classes, figname, normalize=False,\n",
        "#                           cmap=plt.cm.Blues):\n",
        "#   if normalize:\n",
        "#     cm = cm.astype('float') / cm.sum(axis=1)[:, np.newaxis]\n",
        "#     print('Normalized confusion matrix')\n",
        "#   else:\n",
        "#     print('Confusion matrix, without normalization')\n",
        "#   plt.figure(figsize=(8,8))\n",
        "#   plt.title('Confusion Matrix')\n",
        "#   tick_marks = np.arange(len(classes))\n",
        "#   plt.xticks(tick_marks, classes, rotation=90)\n",
        "#   plt.yticks(tick_marks, classes)\n",
        "#   fmt = '.2f' if normalize else 'd'\n",
        "#   thresh = cm.max() / 2.\n",
        "#   for i, j in itertools.product(range(cm.shape[0]), range(cm.shape[1])):\n",
        "#     plt.text(j, i, format(cm[i, j], fmt),\n",
        "#              horizontalalignment='center',\n",
        "#              color='white' if cm[i, j] > thresh else 'black')\n",
        "    \n",
        "#   plt.ylabel('True label')\n",
        "#   plt.xlabel('Predicted label')\n",
        "#   plt.tight_layout()\n",
        "#   plt.savefig(figname)\n",
        "\n",
        "\n"
      ],
      "execution_count": null,
      "outputs": []
    },
    {
      "cell_type": "code",
      "metadata": {
        "id": "1Wj5YaQdaa4M"
      },
      "source": [
        "# test_img, test_labells = next(test_batches)"
      ],
      "execution_count": null,
      "outputs": []
    },
    {
      "cell_type": "code",
      "metadata": {
        "id": "3pCNlrOsaS6S"
      },
      "source": [
        "# Y_pred = vgg16_model.predict_generator(test_batches)\n",
        "# y_pred = np.argmax(Y_pred, axis=1)\n",
        "\n",
        "# cm = confusion_matrix(test_batches.classes, y_pred)\n",
        "# plot_confusion_matrix(cm, classes = test_labels , normalize=False, figname = 'Confusion_matrix_concrete.jpg')"
      ],
      "execution_count": null,
      "outputs": []
    },
    {
      "cell_type": "markdown",
      "metadata": {
        "id": "nWQUYc-NvGC7"
      },
      "source": [
        "**Confusion matrix of testing data**"
      ]
    },
    {
      "cell_type": "code",
      "metadata": {
        "id": "U8RV7GFOZlFS"
      },
      "source": [
        "# #Y_pred = model.predict_generator(test_generator)\n",
        "# from keras.utils import to_categorical\n",
        "# #One Hot Encoding\n",
        "# x_test=to_categorical(test_batches.classes)\n",
        "\n",
        "\n",
        "# Y_pred = vgg16_model.predict_generator(test_batches)\n",
        "# y_test=to_categorical(Y_pred)\n",
        "\n",
        "# y_pred = np.argmax(Y_pred, axis=1)\n",
        "\n",
        "# cm = confusion_matrix(x_test, y_pred)\n",
        "# plot_confusion_matrix(cm, classes = test_labels, title='Confusion Matrix of vgg16_model', normalize=False)"
      ],
      "execution_count": null,
      "outputs": []
    },
    {
      "cell_type": "code",
      "metadata": {
        "id": "cP9wyVBbZlFU"
      },
      "source": [
        "\n",
        "\n",
        "\n",
        "# def plot_confusion_matrix(cm, classes,\n",
        "#                           normalize=False,\n",
        "#                           title='Confusion matrix',\n",
        "#                           cmap=plt.cm.Blues):\n",
        "#     \"\"\"\n",
        "#     This function prints and plots the confusion matrix.\n",
        "#     Normalization can be applied by setting `normalize=True`.\n",
        "#     \"\"\"\n",
        "#     plt.imshow(cm, interpolation='nearest', cmap=cmap)\n",
        "#     plt.title(title)\n",
        "#     plt.colorbar()\n",
        "#     tick_marks = np.arange(len(classes))\n",
        "#     plt.xticks(tick_marks, classes, rotation=45)\n",
        "#     plt.yticks(tick_marks, classes)\n",
        "\n",
        "#     if normalize:\n",
        "#         cm = cm.astype('float') / cm.sum(axis=1)[:, np.newaxis]\n",
        "#         print(\"Normalized confusion matrix\")\n",
        "#     else:\n",
        "#         print('Confusion matrix, without normalization')\n",
        "  \n",
        "#     print(cm)\n",
        "\n",
        "#     thresh = cm.max() / 2.\n",
        "#     for i, j in itertools.product(range(cm.shape[0]), range(cm.shape[1])):\n",
        "#         plt.text(j, i, cm[i, j],\n",
        "#                  horizontalalignment=\"center\",\n",
        "#                  color=\"white\" if cm[i, j] > thresh else \"black\")\n",
        "\n",
        "#     plt.tight_layout()\n",
        "#     plt.ylabel('True label')\n",
        "#     plt.xlabel('Predicted label')"
      ],
      "execution_count": null,
      "outputs": []
    },
    {
      "cell_type": "markdown",
      "metadata": {
        "id": "VI2zkHyRZlFX"
      },
      "source": [
        "# *** confusion of test data***"
      ]
    },
    {
      "cell_type": "markdown",
      "metadata": {
        "id": "gTHWQ7uiZlFc"
      },
      "source": [
        ""
      ]
    },
    {
      "cell_type": "code",
      "metadata": {
        "id": "W8rrBPeelVnq"
      },
      "source": [
        "test_img, test_labells = next(test_batches)\n",
        "\n",
        "plots(test_img, titles=test_labells )\n",
        "print(test_labells)"
      ],
      "execution_count": null,
      "outputs": []
    },
    {
      "cell_type": "code",
      "metadata": {
        "id": "NjGSiLx8BLax"
      },
      "source": [
        "predictions = vgg16_model.predict_generator(test_batches,steps=1,verbose=0)"
      ],
      "execution_count": null,
      "outputs": []
    },
    {
      "cell_type": "code",
      "metadata": {
        "id": "JW0o8HEcoK0u"
      },
      "source": [
        "x_test=to_categorical(test_labells)\n",
        "print(x_test)"
      ],
      "execution_count": null,
      "outputs": []
    },
    {
      "cell_type": "code",
      "metadata": {
        "id": "uc8n3mjOYlHO"
      },
      "source": [
        "\n",
        "\n",
        "y_pred=vgg16_model.predict_classes(test_batches, verbose = 1)\n",
        "y_true=np.argmax(test_labells,axis=1)"
      ],
      "execution_count": null,
      "outputs": []
    },
    {
      "cell_type": "code",
      "metadata": {
        "id": "erzl5SitYoL3"
      },
      "source": [
        "#Defining function for confusion matrix plot\n",
        "def plot_confusion_matrix(y_true, y_pred, classes,\n",
        "                          normalize=False,\n",
        "                          title=None,\n",
        "                          cmap=plt.cm.Blues):\n",
        "\n",
        "    if not title:\n",
        "        if normalize:\n",
        "            title = 'Normalized confusion matrix'\n",
        "        else:\n",
        "            title = 'Confusion matrix, without normalization'\n",
        "\n",
        "    #Compute confusion matrix\n",
        "    cm = confusion_matrix(y_true, y_pred)\n",
        "    if normalize:\n",
        "        cm = cm.astype('float') / cm.sum(axis=1)[:, np.newaxis]\n",
        "        print(\"Normalized confusion matrix\")\n",
        "    else:\n",
        "        print('Confusion matrix, without normalization')\n",
        "\n",
        "#print(cm)\n",
        "\n",
        "    fig, ax = plt.subplots(figsize=(7,7))\n",
        "    im = ax.imshow(cm, interpolation='nearest', cmap=cmap)\n",
        "    ax.figure.colorbar(im, ax=ax)\n",
        "    # We want to show all ticks...\n",
        "    ax.set(xticks=np.arange(cm.shape[1]),\n",
        "           yticks=np.arange(cm.shape[0]),\n",
        "           # ... and label them with the respective list entries\n",
        "           xticklabels=classes, yticklabels=classes,\n",
        "           title=title,\n",
        "           ylabel='True label',\n",
        "           xlabel='Predicted label')\n",
        "\n",
        "\n",
        "    #Rotate the tick labels and set their alignment.\n",
        "    plt.setp(ax.get_xticklabels(), rotation=45, ha=\"right\",\n",
        "             rotation_mode=\"anchor\")\n",
        "    # Loop over data dimensions and create text annotations.\n",
        "    fmt = '.2f' if normalize else 'd'\n",
        "    thresh = cm.max() / 2.\n",
        "    for i in range(cm.shape[0]):\n",
        "        for j in range(cm.shape[1]):\n",
        "            ax.text(j, i, format(cm[i, j], fmt),\n",
        "                    ha=\"center\", va=\"center\",\n",
        "                    color=\"white\" if cm[i, j] > thresh else \"black\")\n",
        "    fig.tight_layout()\n",
        "    return ax\n",
        "\n",
        "np.set_printoptions(precision=2)"
      ],
      "execution_count": null,
      "outputs": []
    },
    {
      "cell_type": "code",
      "metadata": {
        "id": "rZy7jASYYozK"
      },
      "source": [
        "#Plotting normalized confusion matrix\n",
        "plot_confusion_matrix(y_true, y_pred, classes = class_names, normalize = True, title = 'Normalized confusion matrix')\n",
        "\n",
        "confusion matrix of VGG19 "
      ],
      "execution_count": null,
      "outputs": []
    },
    {
      "cell_type": "code",
      "metadata": {
        "id": "GXcI7wifYpQh"
      },
      "source": [
        "test_labels"
      ],
      "execution_count": null,
      "outputs": []
    },
    {
      "cell_type": "code",
      "metadata": {
        "id": "l5RK_uuJJilA"
      },
      "source": [
        "Training accuracy of fine-tuned vgg19  model is     :    99.34584498405457 %\n",
        "Validation  accuracy of fine-tuned vgg19  model is  :    95.41962742805481 %\n",
        "training   loss of fine-tuned vgg19  model   is     :    3.6343192487354306 %\n",
        "Validation  loss of fine-tuned vgg1  model  is     :    17.331895232200623 %"
      ],
      "execution_count": null,
      "outputs": []
    },
    {
      "cell_type": "markdown",
      "metadata": {
        "id": "sW0s5VlBJilD"
      },
      "source": [
        "#  Compare the accuracy of VGG16 and VGG19"
      ]
    },
    {
      "cell_type": "code",
      "metadata": {
        "id": "bM3_wtPpJilE"
      },
      "source": [
        "import matplotlib\n",
        "import matplotlib.pyplot as plt\n",
        "import numpy as np\n",
        "\n",
        "\n",
        "labels = [ \"vgg16\" , \"vgg19\"]\n",
        "Traning_loss = [3.6,3.6]\n",
        "Traning_accuracy  = [99.4,99.3]\n",
        "Valadation_loss= [16.3, 17.3]\n",
        "Valadation_accuracy = [95.8,95.4]\n",
        "\n",
        "\n",
        "x = np.arange(len(labels))  # the label locations\n",
        "width = 0.35  # the width of the bars\n",
        "\n",
        "fig, ax = plt.subplots()\n",
        "rects1 = ax.bar(x +0.0, Traning_loss, width, label='Traning_loss', color = \"r\")\n",
        "rects2 = ax.bar(x + 0.25, Traning_accuracy, width, label='Traning_accuracy',color = \"b\")\n",
        "rects3 = ax.bar(x + 0.50, Valadation_loss, width, label='Valadation_loss', color = \"orange\")\n",
        "rects4 = ax.bar(x +  0.75, Valadation_accuracy, width, label='Valadation_accuracy', color = \"g\")\n",
        "\n",
        "# Add some text for labels, title and custom x-axis tick labels, etc.\n",
        "ax.set_ylabel('Percentage %')\n",
        "ax.set_title('Camparsion of VGG16 and VGG19')\n",
        "ax.set_xticks(x)\n",
        "ax.set_xticklabels(labels)\n",
        "ax.legend()\n",
        "\n",
        "\n",
        "def autolabel(rects):\n",
        "    \"\"\"Attach a text label above each bar in *rects*, displaying its height.\"\"\"\n",
        "    for rect in rects:\n",
        "        height = rect.get_height()\n",
        "        ax.annotate('{}'.format(height),\n",
        "                    xy=(rect.get_x() + rect.get_width() / 2, height),\n",
        "                    xytext=(0, 3),  # 3 points vertical offset\n",
        "                    textcoords=\"offset points\",\n",
        "                    ha='center', va='bottom')\n",
        "\n",
        "\n",
        "autolabel(rects1)\n",
        "autolabel(rects2)\n",
        "autolabel(rects3)\n",
        "autolabel(rects4)\n",
        "\n",
        "fig.tight_layout()\n",
        "\n",
        "plt.show()"
      ],
      "execution_count": null,
      "outputs": []
    },
    {
      "cell_type": "code",
      "metadata": {
        "id": "BjVwmT67JilH"
      },
      "source": [
        ""
      ],
      "execution_count": null,
      "outputs": []
    }
  ]
}